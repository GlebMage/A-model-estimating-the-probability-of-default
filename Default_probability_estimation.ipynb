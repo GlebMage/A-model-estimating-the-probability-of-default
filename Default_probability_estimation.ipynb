{
 "cells": [
  {
   "cell_type": "code",
   "execution_count": 1,
   "id": "dec830ea",
   "metadata": {},
   "outputs": [
    {
     "name": "stderr",
     "output_type": "stream",
     "text": [
      "C:\\Users\\Gavrin Gleb\\anaconda3\\lib\\site-packages\\pandas\\core\\arrays\\masked.py:60: UserWarning: Pandas requires version '1.3.6' or newer of 'bottleneck' (version '1.3.5' currently installed).\n",
      "  from pandas.core import (\n"
     ]
    }
   ],
   "source": [
    "import numpy as np\n",
    "import pandas as pd\n",
    "import matplotlib.pyplot as plt\n",
    "import seaborn as sns"
   ]
  },
  {
   "cell_type": "code",
   "execution_count": 2,
   "id": "ae319e45",
   "metadata": {},
   "outputs": [],
   "source": [
    "df = pd.read_excel('Задание_1.xlsx')"
   ]
  },
  {
   "cell_type": "code",
   "execution_count": 3,
   "id": "f277a913",
   "metadata": {},
   "outputs": [
    {
     "data": {
      "text/html": [
       "<div>\n",
       "<style scoped>\n",
       "    .dataframe tbody tr th:only-of-type {\n",
       "        vertical-align: middle;\n",
       "    }\n",
       "\n",
       "    .dataframe tbody tr th {\n",
       "        vertical-align: top;\n",
       "    }\n",
       "\n",
       "    .dataframe thead th {\n",
       "        text-align: right;\n",
       "    }\n",
       "</style>\n",
       "<table border=\"1\" class=\"dataframe\">\n",
       "  <thead>\n",
       "    <tr style=\"text-align: right;\">\n",
       "      <th></th>\n",
       "      <th>ID</th>\n",
       "      <th>Year</th>\n",
       "      <th>Default</th>\n",
       "      <th>WC/TA</th>\n",
       "      <th>RE/TA</th>\n",
       "      <th>EBIT/TA</th>\n",
       "      <th>ME/TL</th>\n",
       "      <th>S/TA</th>\n",
       "    </tr>\n",
       "  </thead>\n",
       "  <tbody>\n",
       "    <tr>\n",
       "      <th>0</th>\n",
       "      <td>1</td>\n",
       "      <td>1999</td>\n",
       "      <td>0</td>\n",
       "      <td>0.500799</td>\n",
       "      <td>0.306846</td>\n",
       "      <td>0.043373</td>\n",
       "      <td>0.956271</td>\n",
       "      <td>0.334774</td>\n",
       "    </tr>\n",
       "    <tr>\n",
       "      <th>1</th>\n",
       "      <td>1</td>\n",
       "      <td>2000</td>\n",
       "      <td>0</td>\n",
       "      <td>0.547780</td>\n",
       "      <td>0.322214</td>\n",
       "      <td>0.051843</td>\n",
       "      <td>1.064545</td>\n",
       "      <td>0.334591</td>\n",
       "    </tr>\n",
       "    <tr>\n",
       "      <th>2</th>\n",
       "      <td>1</td>\n",
       "      <td>2001</td>\n",
       "      <td>0</td>\n",
       "      <td>0.451001</td>\n",
       "      <td>0.225150</td>\n",
       "      <td>0.026813</td>\n",
       "      <td>0.804096</td>\n",
       "      <td>0.245585</td>\n",
       "    </tr>\n",
       "    <tr>\n",
       "      <th>3</th>\n",
       "      <td>1</td>\n",
       "      <td>2002</td>\n",
       "      <td>0</td>\n",
       "      <td>0.306887</td>\n",
       "      <td>0.191936</td>\n",
       "      <td>0.030058</td>\n",
       "      <td>0.387010</td>\n",
       "      <td>0.253438</td>\n",
       "    </tr>\n",
       "    <tr>\n",
       "      <th>4</th>\n",
       "      <td>1</td>\n",
       "      <td>2003</td>\n",
       "      <td>0</td>\n",
       "      <td>0.447246</td>\n",
       "      <td>0.217368</td>\n",
       "      <td>0.032458</td>\n",
       "      <td>0.791639</td>\n",
       "      <td>0.275531</td>\n",
       "    </tr>\n",
       "    <tr>\n",
       "      <th>...</th>\n",
       "      <td>...</td>\n",
       "      <td>...</td>\n",
       "      <td>...</td>\n",
       "      <td>...</td>\n",
       "      <td>...</td>\n",
       "      <td>...</td>\n",
       "      <td>...</td>\n",
       "      <td>...</td>\n",
       "    </tr>\n",
       "    <tr>\n",
       "      <th>3995</th>\n",
       "      <td>826</td>\n",
       "      <td>1997</td>\n",
       "      <td>1</td>\n",
       "      <td>0.028728</td>\n",
       "      <td>-1.846117</td>\n",
       "      <td>0.033956</td>\n",
       "      <td>0.034680</td>\n",
       "      <td>0.678044</td>\n",
       "    </tr>\n",
       "    <tr>\n",
       "      <th>3996</th>\n",
       "      <td>827</td>\n",
       "      <td>2000</td>\n",
       "      <td>1</td>\n",
       "      <td>0.172167</td>\n",
       "      <td>-0.068613</td>\n",
       "      <td>-0.004699</td>\n",
       "      <td>0.043519</td>\n",
       "      <td>0.235299</td>\n",
       "    </tr>\n",
       "    <tr>\n",
       "      <th>3997</th>\n",
       "      <td>828</td>\n",
       "      <td>1996</td>\n",
       "      <td>1</td>\n",
       "      <td>0.005588</td>\n",
       "      <td>-0.260068</td>\n",
       "      <td>0.036878</td>\n",
       "      <td>0.298255</td>\n",
       "      <td>0.148100</td>\n",
       "    </tr>\n",
       "    <tr>\n",
       "      <th>3998</th>\n",
       "      <td>829</td>\n",
       "      <td>2001</td>\n",
       "      <td>1</td>\n",
       "      <td>-0.994230</td>\n",
       "      <td>-0.433532</td>\n",
       "      <td>-0.000244</td>\n",
       "      <td>0.035502</td>\n",
       "      <td>0.330467</td>\n",
       "    </tr>\n",
       "    <tr>\n",
       "      <th>3999</th>\n",
       "      <td>830</td>\n",
       "      <td>2002</td>\n",
       "      <td>1</td>\n",
       "      <td>0.065566</td>\n",
       "      <td>-0.113739</td>\n",
       "      <td>0.036024</td>\n",
       "      <td>0.037632</td>\n",
       "      <td>0.116360</td>\n",
       "    </tr>\n",
       "  </tbody>\n",
       "</table>\n",
       "<p>4000 rows × 8 columns</p>\n",
       "</div>"
      ],
      "text/plain": [
       "       ID  Year  Default     WC/TA     RE/TA   EBIT/TA     ME/TL      S/TA\n",
       "0       1  1999        0  0.500799  0.306846  0.043373  0.956271  0.334774\n",
       "1       1  2000        0  0.547780  0.322214  0.051843  1.064545  0.334591\n",
       "2       1  2001        0  0.451001  0.225150  0.026813  0.804096  0.245585\n",
       "3       1  2002        0  0.306887  0.191936  0.030058  0.387010  0.253438\n",
       "4       1  2003        0  0.447246  0.217368  0.032458  0.791639  0.275531\n",
       "...   ...   ...      ...       ...       ...       ...       ...       ...\n",
       "3995  826  1997        1  0.028728 -1.846117  0.033956  0.034680  0.678044\n",
       "3996  827  2000        1  0.172167 -0.068613 -0.004699  0.043519  0.235299\n",
       "3997  828  1996        1  0.005588 -0.260068  0.036878  0.298255  0.148100\n",
       "3998  829  2001        1 -0.994230 -0.433532 -0.000244  0.035502  0.330467\n",
       "3999  830  2002        1  0.065566 -0.113739  0.036024  0.037632  0.116360\n",
       "\n",
       "[4000 rows x 8 columns]"
      ]
     },
     "execution_count": 3,
     "metadata": {},
     "output_type": "execute_result"
    }
   ],
   "source": [
    "df"
   ]
  },
  {
   "cell_type": "code",
   "execution_count": 4,
   "id": "451e0664",
   "metadata": {},
   "outputs": [
    {
     "data": {
      "text/plain": [
       "ID         0.0\n",
       "Year       0.0\n",
       "Default    0.0\n",
       "WC/TA      0.0\n",
       "RE/TA      0.0\n",
       "EBIT/TA    0.0\n",
       "ME/TL      0.0\n",
       "S/TA       0.0\n",
       "dtype: float64"
      ]
     },
     "execution_count": 4,
     "metadata": {},
     "output_type": "execute_result"
    }
   ],
   "source": [
    "df.isnull().mean()"
   ]
  },
  {
   "cell_type": "markdown",
   "id": "bc517ff7",
   "metadata": {},
   "source": [
    "Пропусков в данных нет"
   ]
  },
  {
   "cell_type": "markdown",
   "id": "10718a65",
   "metadata": {},
   "source": [
    "# Описание данных"
   ]
  },
  {
   "cell_type": "markdown",
   "id": "45df6130",
   "metadata": {},
   "source": [
    "1) **Year** - год наблюдения"
   ]
  },
  {
   "cell_type": "markdown",
   "id": "eb59d9be",
   "metadata": {},
   "source": [
    "2. **WC/TA** - working capital / total assets"
   ]
  },
  {
   "cell_type": "markdown",
   "id": "5118d8fc",
   "metadata": {},
   "source": [
    "3. **RE/TA** - retained earnings / total assets"
   ]
  },
  {
   "cell_type": "markdown",
   "id": "3d8f525c",
   "metadata": {},
   "source": [
    "4. **EBIT/TA** - earnings before interest and taxes / total assets"
   ]
  },
  {
   "cell_type": "markdown",
   "id": "6eba5e44",
   "metadata": {},
   "source": [
    "5. **S/TA** - savings / total assets "
   ]
  },
  {
   "cell_type": "markdown",
   "id": "eca5fd14",
   "metadata": {},
   "source": [
    "Заметим, что для каждого ID представлены данные по нескольким годам, это нужно учитывать при анализе"
   ]
  },
  {
   "cell_type": "markdown",
   "id": "87a76802",
   "metadata": {},
   "source": [
    "# Исследование данных"
   ]
  },
  {
   "cell_type": "code",
   "execution_count": 6,
   "id": "88471163",
   "metadata": {},
   "outputs": [
    {
     "data": {
      "text/html": [
       "<div>\n",
       "<style scoped>\n",
       "    .dataframe tbody tr th:only-of-type {\n",
       "        vertical-align: middle;\n",
       "    }\n",
       "\n",
       "    .dataframe tbody tr th {\n",
       "        vertical-align: top;\n",
       "    }\n",
       "\n",
       "    .dataframe thead th {\n",
       "        text-align: right;\n",
       "    }\n",
       "</style>\n",
       "<table border=\"1\" class=\"dataframe\">\n",
       "  <thead>\n",
       "    <tr style=\"text-align: right;\">\n",
       "      <th></th>\n",
       "      <th>ID</th>\n",
       "      <th>Year</th>\n",
       "      <th>Default</th>\n",
       "      <th>WC/TA</th>\n",
       "      <th>RE/TA</th>\n",
       "      <th>EBIT/TA</th>\n",
       "      <th>ME/TL</th>\n",
       "      <th>S/TA</th>\n",
       "    </tr>\n",
       "  </thead>\n",
       "  <tbody>\n",
       "    <tr>\n",
       "      <th>count</th>\n",
       "      <td>4000.000000</td>\n",
       "      <td>4000.000000</td>\n",
       "      <td>4000.000000</td>\n",
       "      <td>4000.000000</td>\n",
       "      <td>4000.000000</td>\n",
       "      <td>4000.000000</td>\n",
       "      <td>4000.000000</td>\n",
       "      <td>4000.000000</td>\n",
       "    </tr>\n",
       "    <tr>\n",
       "      <th>mean</th>\n",
       "      <td>356.336250</td>\n",
       "      <td>1999.828000</td>\n",
       "      <td>0.018000</td>\n",
       "      <td>0.142514</td>\n",
       "      <td>0.210467</td>\n",
       "      <td>0.051803</td>\n",
       "      <td>1.953963</td>\n",
       "      <td>0.303652</td>\n",
       "    </tr>\n",
       "    <tr>\n",
       "      <th>std</th>\n",
       "      <td>198.098395</td>\n",
       "      <td>2.754054</td>\n",
       "      <td>0.132968</td>\n",
       "      <td>0.170763</td>\n",
       "      <td>0.332549</td>\n",
       "      <td>0.029596</td>\n",
       "      <td>2.994475</td>\n",
       "      <td>0.205794</td>\n",
       "    </tr>\n",
       "    <tr>\n",
       "      <th>min</th>\n",
       "      <td>1.000000</td>\n",
       "      <td>1995.000000</td>\n",
       "      <td>0.000000</td>\n",
       "      <td>-2.240268</td>\n",
       "      <td>-3.312420</td>\n",
       "      <td>-0.591821</td>\n",
       "      <td>0.023718</td>\n",
       "      <td>0.035858</td>\n",
       "    </tr>\n",
       "    <tr>\n",
       "      <th>25%</th>\n",
       "      <td>192.000000</td>\n",
       "      <td>1998.000000</td>\n",
       "      <td>0.000000</td>\n",
       "      <td>0.031167</td>\n",
       "      <td>0.094744</td>\n",
       "      <td>0.038992</td>\n",
       "      <td>0.623493</td>\n",
       "      <td>0.170836</td>\n",
       "    </tr>\n",
       "    <tr>\n",
       "      <th>50%</th>\n",
       "      <td>358.000000</td>\n",
       "      <td>2000.000000</td>\n",
       "      <td>0.000000</td>\n",
       "      <td>0.117273</td>\n",
       "      <td>0.218929</td>\n",
       "      <td>0.051563</td>\n",
       "      <td>1.136456</td>\n",
       "      <td>0.261037</td>\n",
       "    </tr>\n",
       "    <tr>\n",
       "      <th>75%</th>\n",
       "      <td>521.000000</td>\n",
       "      <td>2002.000000</td>\n",
       "      <td>0.000000</td>\n",
       "      <td>0.241775</td>\n",
       "      <td>0.373417</td>\n",
       "      <td>0.065093</td>\n",
       "      <td>2.244287</td>\n",
       "      <td>0.366936</td>\n",
       "    </tr>\n",
       "    <tr>\n",
       "      <th>max</th>\n",
       "      <td>830.000000</td>\n",
       "      <td>2004.000000</td>\n",
       "      <td>1.000000</td>\n",
       "      <td>0.766040</td>\n",
       "      <td>1.639646</td>\n",
       "      <td>0.198035</td>\n",
       "      <td>60.607150</td>\n",
       "      <td>5.007775</td>\n",
       "    </tr>\n",
       "  </tbody>\n",
       "</table>\n",
       "</div>"
      ],
      "text/plain": [
       "                ID         Year      Default        WC/TA        RE/TA  \\\n",
       "count  4000.000000  4000.000000  4000.000000  4000.000000  4000.000000   \n",
       "mean    356.336250  1999.828000     0.018000     0.142514     0.210467   \n",
       "std     198.098395     2.754054     0.132968     0.170763     0.332549   \n",
       "min       1.000000  1995.000000     0.000000    -2.240268    -3.312420   \n",
       "25%     192.000000  1998.000000     0.000000     0.031167     0.094744   \n",
       "50%     358.000000  2000.000000     0.000000     0.117273     0.218929   \n",
       "75%     521.000000  2002.000000     0.000000     0.241775     0.373417   \n",
       "max     830.000000  2004.000000     1.000000     0.766040     1.639646   \n",
       "\n",
       "           EBIT/TA        ME/TL         S/TA  \n",
       "count  4000.000000  4000.000000  4000.000000  \n",
       "mean      0.051803     1.953963     0.303652  \n",
       "std       0.029596     2.994475     0.205794  \n",
       "min      -0.591821     0.023718     0.035858  \n",
       "25%       0.038992     0.623493     0.170836  \n",
       "50%       0.051563     1.136456     0.261037  \n",
       "75%       0.065093     2.244287     0.366936  \n",
       "max       0.198035    60.607150     5.007775  "
      ]
     },
     "execution_count": 6,
     "metadata": {},
     "output_type": "execute_result"
    }
   ],
   "source": [
    "df.describe()"
   ]
  },
  {
   "cell_type": "markdown",
   "id": "d1d0189c",
   "metadata": {},
   "source": [
    "Для того, чтобы лучше понять признаки, я изучил информацию о них и вот какие выводы по каждому из них удалось сделать:"
   ]
  },
  {
   "cell_type": "markdown",
   "id": "9b1e998e",
   "metadata": {},
   "source": [
    "### WC / TA"
   ]
  },
  {
   "cell_type": "markdown",
   "id": "97df2059",
   "metadata": {},
   "source": [
    "Соотношение **оборотного капитала к оборотным активам**"
   ]
  },
  {
   "cell_type": "markdown",
   "id": "cd7e00f9",
   "metadata": {},
   "source": [
    "Указывает на способность бизнеса финансировать свои краткосрочные обязательства"
   ]
  },
  {
   "cell_type": "markdown",
   "id": "6c9e9c84",
   "metadata": {},
   "source": [
    "Всегда <= 1"
   ]
  },
  {
   "cell_type": "markdown",
   "id": "ff7a4ff5",
   "metadata": {},
   "source": [
    "Нормальные значения коэффициента сильно зависят от отрасли."
   ]
  },
  {
   "cell_type": "markdown",
   "id": "17418e9c",
   "metadata": {},
   "source": [
    "При этом чем выше коэффициент - тем лучше"
   ]
  },
  {
   "cell_type": "markdown",
   "id": "9b507c56",
   "metadata": {},
   "source": [
    "Отрицательное значение WC/TA говорит о том, что текущие активы превышают текущие обязательства. Это является признаком трудного финансового положения компании. При этом не всегда отрицательный коэффициент это плохо. Знак минус может появиться в ситуации, когда компания работает с низкой дебиторской задолженностью и эффективно использует кредиты поставщиков."
   ]
  },
  {
   "cell_type": "markdown",
   "id": "e3a82a31",
   "metadata": {},
   "source": [
    "Заметим, что в нашей выборке среднее значение WC/TA довольно высокое, что свидетельствует о преобладании в выборке стабильных компаний."
   ]
  },
  {
   "cell_type": "markdown",
   "id": "d5b49633",
   "metadata": {},
   "source": [
    "### RE / TA"
   ]
  },
  {
   "cell_type": "markdown",
   "id": "d98de0dd",
   "metadata": {},
   "source": [
    "Отражает **долю активов, финансируемых за счёт нераспределённой прибыли бизнеса.**"
   ]
  },
  {
   "cell_type": "markdown",
   "id": "e4e2cf54",
   "metadata": {},
   "source": [
    "Также коэффициент дает понять, насколько компания может финансировать свою деятельность за счёт внутренних ресурсов, то есть степень независимости от внешнего долга и вливаний капитала."
   ]
  },
  {
   "cell_type": "markdown",
   "id": "aa8f59fc",
   "metadata": {},
   "source": [
    "Чем выше RE/TA, тем лучше"
   ]
  },
  {
   "cell_type": "markdown",
   "id": "b380e3b0",
   "metadata": {},
   "source": [
    "Также важно отметить, что большинство начинающих компаний имеют небольшую нераспределенную прибыль, соответственно у них RE/TA будет низким. При этом если с каждым годом коэффициент растёт, то это значит, что компания укрепляет свои позиции на рынке и ее финансовое положение улучшается."
   ]
  },
  {
   "cell_type": "markdown",
   "id": "652bec3b",
   "metadata": {},
   "source": [
    "### EBIT/TA"
   ]
  },
  {
   "cell_type": "markdown",
   "id": "78696a5f",
   "metadata": {},
   "source": [
    "Отражает, насколько **эффективно компания генерирует прибыль до уплаты процентов и налогов**"
   ]
  },
  {
   "cell_type": "markdown",
   "id": "26be88cc",
   "metadata": {},
   "source": [
    "Коэффициент интересен для анализа тем, что при сравнении с компаниями из других стран разница в налоговых ставках не повлияет на анализ. Также не учитывается уплата процентов, значит различия в структуре капитала у разных компаний не скажутся на результатах анализа."
   ]
  },
  {
   "cell_type": "markdown",
   "id": "107bd962",
   "metadata": {},
   "source": [
    "EBIT/TA дает представление о том, **сколько денег генерируется от каждого доллара, вложенного в компанию**"
   ]
  },
  {
   "cell_type": "markdown",
   "id": "b8595713",
   "metadata": {},
   "source": [
    "### ME/TL"
   ]
  },
  {
   "cell_type": "markdown",
   "id": "2519c873",
   "metadata": {},
   "source": [
    "Отражает **отношение рыночной стоимости собственного капитала к общей сумме долговых обязательств**."
   ]
  },
  {
   "cell_type": "markdown",
   "id": "27ec6382",
   "metadata": {},
   "source": [
    "Чем выше коэффициент, тем лучше, так как большое значение коэффициента говорит о том, что существенная часть финансирования компании происходит за счёт собственного капитала, а это говорит о финансовой независимости и стабильности."
   ]
  },
  {
   "cell_type": "markdown",
   "id": "41cc07d9",
   "metadata": {},
   "source": [
    "### S/TA"
   ]
  },
  {
   "cell_type": "markdown",
   "id": "ce5c0b7d",
   "metadata": {},
   "source": [
    "Отражает **долю сбережений в общих активах компании**"
   ]
  },
  {
   "cell_type": "markdown",
   "id": "71ca8dda",
   "metadata": {},
   "source": [
    "Посмотрим на **распределение данных по классам**(1 - дефолт, 0 - нет дефолта)"
   ]
  },
  {
   "cell_type": "code",
   "execution_count": 7,
   "id": "3ad59f04",
   "metadata": {},
   "outputs": [
    {
     "data": {
      "text/plain": [
       "<Axes: xlabel='Default'>"
      ]
     },
     "execution_count": 7,
     "metadata": {},
     "output_type": "execute_result"
    },
    {
     "data": {
      "image/png": "[encoded data removed]",
      "text/plain": [
       "<Figure size 640x480 with 1 Axes>"
      ]
     },
     "metadata": {},
     "output_type": "display_data"
    }
   ],
   "source": [
    "df['Default'].value_counts().plot(kind='bar')"
   ]
  },
  {
   "cell_type": "markdown",
   "id": "9b78bca6",
   "metadata": {},
   "source": [
    "В данной выборке наблюдается очень сильный дисбаланс классов. Я пробовал исследовать данные на выбросы по каждому признаку с помощью boxplot, искать и удалять выбросы методом интерквартильного размаха, но при этом ситуация с дисбалансом классов ухудшалась. По моему мнению это связано с тем, что нестандартно высокие/низкие значения коэффициентов как раз могут свидетельствовать о проблемах в компании, а следовательно, высокой вероятности дефолта. Поэтому я не чистил датасет от выбросов по признакам и оставил всё как есть. Построим модель на таких данных и затем посмотрим на её качество, чтобы убедиться, что всё правильно."
   ]
  },
  {
   "cell_type": "markdown",
   "id": "c3052a84",
   "metadata": {},
   "source": [
    "## Исследование влияния коэффициентов на дефолт"
   ]
  },
  {
   "cell_type": "markdown",
   "id": "ce5e49cd",
   "metadata": {},
   "source": [
    "Чтобы посмотреть, при каких значениях каждого коэффициента чаще всего происходит дефолт, построим рядом гистограммы распределения значений каждого коэффициента в случаях дефолта / отсутствия дефолта"
   ]
  },
  {
   "cell_type": "code",
   "execution_count": 8,
   "id": "c31df586",
   "metadata": {},
   "outputs": [
    {
     "data": {
      "image/png": "[encoded data removed]",
      "text/plain": [
       "<Figure size 1800x600 with 2 Axes>"
      ]
     },
     "metadata": {},
     "output_type": "display_data"
    }
   ],
   "source": [
    "fig, axes = plt.subplots(nrows=1, ncols=2, figsize=(18, 6))\n",
    " \n",
    "axes[0].hist(df[df['Default']==0]['WC/TA'], bins=30, color='Green', edgecolor='black')\n",
    "axes[0].set_title('Распределение значений коэффициента WC/TA в ситуациях отсутствия дефолта')\n",
    " \n",
    "axes[1].hist(df[df['Default']==1]['WC/TA'], bins=30, color='Pink', edgecolor='black')\n",
    "axes[1].set_title('Распределение значений коэффициента WC/TA в ситуациях дефолта')\n",
    " \n",
    "for ax in axes:\n",
    "    ax.set_xlabel('working capital/total assets')\n",
    "    ax.set_ylabel('Количество наблюдений')\n",
    " \n",
    "plt.tight_layout()\n",
    "plt.show()"
   ]
  },
  {
   "cell_type": "markdown",
   "id": "67a3aed6",
   "metadata": {},
   "source": [
    "По гистограммам хорошо видно, что распределение Wc/TA для наблюдений, когда произошел дефолт, смещено влево относительно распределения WC/TA, когда дефолта не было. Также в распределении с дефолтами больше выбросов, что логично."
   ]
  },
  {
   "cell_type": "code",
   "execution_count": 9,
   "id": "638f7950",
   "metadata": {},
   "outputs": [
    {
     "data": {
      "text/plain": [
       "0.14412271003054988"
      ]
     },
     "execution_count": 9,
     "metadata": {},
     "output_type": "execute_result"
    }
   ],
   "source": [
    "df.loc[df['Default'] == 0, 'WC/TA'].mean()"
   ]
  },
  {
   "cell_type": "code",
   "execution_count": 10,
   "id": "982b36f1",
   "metadata": {},
   "outputs": [
    {
     "data": {
      "text/plain": [
       "0.054731944444444444"
      ]
     },
     "execution_count": 10,
     "metadata": {},
     "output_type": "execute_result"
    }
   ],
   "source": [
    "df.loc[df['Default'] == 1, 'WC/TA'].mean()"
   ]
  },
  {
   "cell_type": "markdown",
   "id": "b8d1de4a",
   "metadata": {},
   "source": [
    "Расчёт средних подтверждает наши наблюдения."
   ]
  },
  {
   "cell_type": "code",
   "execution_count": 11,
   "id": "ce2547be",
   "metadata": {},
   "outputs": [
    {
     "data": {
      "image/png": "[encoded data removed]",
      "text/plain": [
       "<Figure size 1800x600 with 2 Axes>"
      ]
     },
     "metadata": {},
     "output_type": "display_data"
    }
   ],
   "source": [
    "fig, axes = plt.subplots(nrows=1, ncols=2, figsize=(18, 6))\n",
    " \n",
    "axes[0].hist(df[df['Default']==0]['RE/TA'], bins=30, color='orange', edgecolor='black')\n",
    "axes[0].set_title('Распределение значений коэффициента RE/TA в ситуациях отсутствия дефолта')\n",
    " \n",
    "axes[1].hist(df[df['Default']==1]['RE/TA'], bins=30, color='grey', edgecolor='black')\n",
    "axes[1].set_title('Распределение значений коэффициента RE/TA в ситуациях дефолта')\n",
    " \n",
    "for ax in axes:\n",
    "    ax.set_xlabel('retained earnings/total assets')\n",
    "    ax.set_ylabel('Количество наблюдений')\n",
    " \n",
    "plt.tight_layout()\n",
    "plt.show()"
   ]
  },
  {
   "cell_type": "markdown",
   "id": "94e21357",
   "metadata": {},
   "source": [
    "В случае коэффициента RE/TA ситуация ещё более наглядная. В наблюдениях с дефолтом много выбросов в левом хвосте, что говорит о важности этого показателя в предсказании дефолта(низкое значение RE/TA => высокая вероятность дефолта)."
   ]
  },
  {
   "cell_type": "code",
   "execution_count": 12,
   "id": "4e7ea0ea",
   "metadata": {},
   "outputs": [
    {
     "data": {
      "image/png": "[encoded data removed]",
      "text/plain": [
       "<Figure size 1800x600 with 2 Axes>"
      ]
     },
     "metadata": {},
     "output_type": "display_data"
    }
   ],
   "source": [
    "fig, axes = plt.subplots(nrows=1, ncols=2, figsize=(18, 6))\n",
    " \n",
    "axes[0].hist(df[df['Default']==0]['EBIT/TA'], bins=30, color='chartreuse', edgecolor='black')\n",
    "axes[0].set_title('Распределение значений коэффициента EBIT/TA в ситуациях отсутствия дефолта')\n",
    " \n",
    "axes[1].hist(df[df['Default']==1]['EBIT/TA'], bins=30, color='red', edgecolor='black')\n",
    "axes[1].set_title('Распределение значений коэффициента EBIT/TA в ситуациях дефолта')\n",
    " \n",
    "for ax in axes:\n",
    "    ax.set_xlabel('EBIT/total assets')\n",
    "    ax.set_ylabel('Количество наблюдений')\n",
    " \n",
    "plt.tight_layout()\n",
    "plt.show()"
   ]
  },
  {
   "cell_type": "markdown",
   "id": "24938a31",
   "metadata": {},
   "source": [
    "У коэффициента EBIT/TA ситуация не такая явная, как мне кажется, это происходит потому, что как правило в компаниях EBIT небольшая. Скорее всего, этот коэффициент не так сильно как другие влияет на вероятность дефолта."
   ]
  },
  {
   "cell_type": "code",
   "execution_count": 13,
   "id": "b92dadf5",
   "metadata": {},
   "outputs": [
    {
     "data": {
      "image/png": "[encoded data removed]",
      "text/plain": [
       "<Figure size 1800x600 with 2 Axes>"
      ]
     },
     "metadata": {},
     "output_type": "display_data"
    }
   ],
   "source": [
    "fig, axes = plt.subplots(nrows=1, ncols=2, figsize=(18, 6))\n",
    " \n",
    "axes[0].hist(df[df['Default']==0]['ME/TL'], bins=30, color='indianred', edgecolor='black')\n",
    "axes[0].set_title('Распределение значений коэффициента ME/TL в ситуациях отсутствия дефолта')\n",
    " \n",
    "axes[1].hist(df[df['Default']==1]['ME/TL'], bins=30, color='darkblue', edgecolor='black')\n",
    "axes[1].set_title('Распределение значений коэффициента ME/TL в ситуациях дефолта')\n",
    " \n",
    "for ax in axes:\n",
    "    ax.set_xlabel('market equity/total liabilities')\n",
    "    ax.set_ylabel('Количество наблюдений')\n",
    " \n",
    "plt.tight_layout()\n",
    "plt.show()"
   ]
  },
  {
   "cell_type": "markdown",
   "id": "ec6f29bc",
   "metadata": {},
   "source": [
    "Заметим, что в ситуациях дефолта коэфициент почти всегда был < 2, это говорит о высокой значимости данного коэффициента для анализа. Низкая стоимость обанкротившихся компаний может быть связяна с тем, что акции близких к дефолту компаний падают в цене и уменьшают тем самым показатель ME."
   ]
  },
  {
   "cell_type": "code",
   "execution_count": 14,
   "id": "97532177",
   "metadata": {},
   "outputs": [
    {
     "data": {
      "text/plain": [
       "1.9810519143584522"
      ]
     },
     "execution_count": 14,
     "metadata": {},
     "output_type": "execute_result"
    }
   ],
   "source": [
    "df.loc[df['Default'] == 0, 'ME/TL'].mean()"
   ]
  },
  {
   "cell_type": "code",
   "execution_count": 15,
   "id": "fe94b709",
   "metadata": {},
   "outputs": [
    {
     "data": {
      "text/plain": [
       "0.4760961583333333"
      ]
     },
     "execution_count": 15,
     "metadata": {},
     "output_type": "execute_result"
    }
   ],
   "source": [
    "df.loc[df['Default'] == 1, 'ME/TL'].mean()"
   ]
  },
  {
   "cell_type": "code",
   "execution_count": 16,
   "id": "4d1b7fcb",
   "metadata": {},
   "outputs": [
    {
     "data": {
      "image/png": "[encoded data removed]",
      "text/plain": [
       "<Figure size 1800x600 with 2 Axes>"
      ]
     },
     "metadata": {},
     "output_type": "display_data"
    }
   ],
   "source": [
    "fig, axes = plt.subplots(nrows=1, ncols=2, figsize=(18, 6))\n",
    " \n",
    "axes[0].hist(df[df['Default']==0]['S/TA'], bins=30, color='purple', edgecolor='black')\n",
    "axes[0].set_title('Распределение значений коэффициента S/TA в ситуациях отсутствия дефолта')\n",
    " \n",
    "axes[1].hist(df[df['Default']==1]['S/TA'], bins=30, color='brown', edgecolor='black')\n",
    "axes[1].set_title('Распределение значений коэффициента S/TA в ситуациях дефолта')\n",
    " \n",
    "for ax in axes:\n",
    "    ax.set_xlabel('savings/total assets')\n",
    "    ax.set_ylabel('Количество наблюдений')\n",
    " \n",
    "plt.tight_layout()\n",
    "plt.show()"
   ]
  },
  {
   "cell_type": "code",
   "execution_count": 17,
   "id": "beb64260",
   "metadata": {},
   "outputs": [
    {
     "data": {
      "text/plain": [
       "0.3028866667260692"
      ]
     },
     "execution_count": 17,
     "metadata": {},
     "output_type": "execute_result"
    }
   ],
   "source": [
    "df.loc[df['Default'] == 0, 'S/TA'].mean()"
   ]
  },
  {
   "cell_type": "code",
   "execution_count": 18,
   "id": "c095dbbb",
   "metadata": {},
   "outputs": [
    {
     "data": {
      "text/plain": [
       "0.34539172638888893"
      ]
     },
     "execution_count": 18,
     "metadata": {},
     "output_type": "execute_result"
    }
   ],
   "source": [
    "df.loc[df['Default'] == 1, 'S/TA'].mean()"
   ]
  },
  {
   "cell_type": "markdown",
   "id": "148c0eb2",
   "metadata": {},
   "source": [
    "Судя по гистограммам распределения коэффициента S/TA, этот коэффициент не оказывает существенного влияния на вероятность дефолта."
   ]
  },
  {
   "cell_type": "markdown",
   "id": "06e58552",
   "metadata": {},
   "source": [
    "# Корреляционный анализ"
   ]
  },
  {
   "cell_type": "raw",
   "id": "1401493a",
   "metadata": {},
   "source": [
    "Построим таблицу корреляций:"
   ]
  },
  {
   "cell_type": "code",
   "execution_count": 19,
   "id": "1507c107",
   "metadata": {},
   "outputs": [
    {
     "data": {
      "text/html": [
       "<div>\n",
       "<style scoped>\n",
       "    .dataframe tbody tr th:only-of-type {\n",
       "        vertical-align: middle;\n",
       "    }\n",
       "\n",
       "    .dataframe tbody tr th {\n",
       "        vertical-align: top;\n",
       "    }\n",
       "\n",
       "    .dataframe thead th {\n",
       "        text-align: right;\n",
       "    }\n",
       "</style>\n",
       "<table border=\"1\" class=\"dataframe\">\n",
       "  <thead>\n",
       "    <tr style=\"text-align: right;\">\n",
       "      <th></th>\n",
       "      <th>ID</th>\n",
       "      <th>Year</th>\n",
       "      <th>Default</th>\n",
       "      <th>WC/TA</th>\n",
       "      <th>RE/TA</th>\n",
       "      <th>EBIT/TA</th>\n",
       "      <th>ME/TL</th>\n",
       "      <th>S/TA</th>\n",
       "    </tr>\n",
       "  </thead>\n",
       "  <tbody>\n",
       "    <tr>\n",
       "      <th>ID</th>\n",
       "      <td>1.000000</td>\n",
       "      <td>-0.254417</td>\n",
       "      <td>0.176423</td>\n",
       "      <td>0.024024</td>\n",
       "      <td>-0.065926</td>\n",
       "      <td>-0.027896</td>\n",
       "      <td>-0.086105</td>\n",
       "      <td>0.087327</td>\n",
       "    </tr>\n",
       "    <tr>\n",
       "      <th>Year</th>\n",
       "      <td>-0.254417</td>\n",
       "      <td>1.000000</td>\n",
       "      <td>-0.059829</td>\n",
       "      <td>-0.059384</td>\n",
       "      <td>0.035024</td>\n",
       "      <td>-0.030853</td>\n",
       "      <td>-0.032546</td>\n",
       "      <td>-0.083689</td>\n",
       "    </tr>\n",
       "    <tr>\n",
       "      <th>Default</th>\n",
       "      <td>0.176423</td>\n",
       "      <td>-0.059829</td>\n",
       "      <td>1.000000</td>\n",
       "      <td>-0.069606</td>\n",
       "      <td>-0.219986</td>\n",
       "      <td>-0.142317</td>\n",
       "      <td>-0.066827</td>\n",
       "      <td>0.027463</td>\n",
       "    </tr>\n",
       "    <tr>\n",
       "      <th>WC/TA</th>\n",
       "      <td>0.024024</td>\n",
       "      <td>-0.059384</td>\n",
       "      <td>-0.069606</td>\n",
       "      <td>1.000000</td>\n",
       "      <td>0.197591</td>\n",
       "      <td>0.181370</td>\n",
       "      <td>0.206344</td>\n",
       "      <td>0.247285</td>\n",
       "    </tr>\n",
       "    <tr>\n",
       "      <th>RE/TA</th>\n",
       "      <td>-0.065926</td>\n",
       "      <td>0.035024</td>\n",
       "      <td>-0.219986</td>\n",
       "      <td>0.197591</td>\n",
       "      <td>1.000000</td>\n",
       "      <td>0.329396</td>\n",
       "      <td>0.237152</td>\n",
       "      <td>0.080836</td>\n",
       "    </tr>\n",
       "    <tr>\n",
       "      <th>EBIT/TA</th>\n",
       "      <td>-0.027896</td>\n",
       "      <td>-0.030853</td>\n",
       "      <td>-0.142317</td>\n",
       "      <td>0.181370</td>\n",
       "      <td>0.329396</td>\n",
       "      <td>1.000000</td>\n",
       "      <td>0.284614</td>\n",
       "      <td>0.251476</td>\n",
       "    </tr>\n",
       "    <tr>\n",
       "      <th>ME/TL</th>\n",
       "      <td>-0.086105</td>\n",
       "      <td>-0.032546</td>\n",
       "      <td>-0.066827</td>\n",
       "      <td>0.206344</td>\n",
       "      <td>0.237152</td>\n",
       "      <td>0.284614</td>\n",
       "      <td>1.000000</td>\n",
       "      <td>0.001656</td>\n",
       "    </tr>\n",
       "    <tr>\n",
       "      <th>S/TA</th>\n",
       "      <td>0.087327</td>\n",
       "      <td>-0.083689</td>\n",
       "      <td>0.027463</td>\n",
       "      <td>0.247285</td>\n",
       "      <td>0.080836</td>\n",
       "      <td>0.251476</td>\n",
       "      <td>0.001656</td>\n",
       "      <td>1.000000</td>\n",
       "    </tr>\n",
       "  </tbody>\n",
       "</table>\n",
       "</div>"
      ],
      "text/plain": [
       "               ID      Year   Default     WC/TA     RE/TA   EBIT/TA     ME/TL  \\\n",
       "ID       1.000000 -0.254417  0.176423  0.024024 -0.065926 -0.027896 -0.086105   \n",
       "Year    -0.254417  1.000000 -0.059829 -0.059384  0.035024 -0.030853 -0.032546   \n",
       "Default  0.176423 -0.059829  1.000000 -0.069606 -0.219986 -0.142317 -0.066827   \n",
       "WC/TA    0.024024 -0.059384 -0.069606  1.000000  0.197591  0.181370  0.206344   \n",
       "RE/TA   -0.065926  0.035024 -0.219986  0.197591  1.000000  0.329396  0.237152   \n",
       "EBIT/TA -0.027896 -0.030853 -0.142317  0.181370  0.329396  1.000000  0.284614   \n",
       "ME/TL   -0.086105 -0.032546 -0.066827  0.206344  0.237152  0.284614  1.000000   \n",
       "S/TA     0.087327 -0.083689  0.027463  0.247285  0.080836  0.251476  0.001656   \n",
       "\n",
       "             S/TA  \n",
       "ID       0.087327  \n",
       "Year    -0.083689  \n",
       "Default  0.027463  \n",
       "WC/TA    0.247285  \n",
       "RE/TA    0.080836  \n",
       "EBIT/TA  0.251476  \n",
       "ME/TL    0.001656  \n",
       "S/TA     1.000000  "
      ]
     },
     "execution_count": 19,
     "metadata": {},
     "output_type": "execute_result"
    }
   ],
   "source": [
    "df.corr()"
   ]
  },
  {
   "cell_type": "markdown",
   "id": "12151aa6",
   "metadata": {},
   "source": [
    "Для удобства восприятия построим heatmap:"
   ]
  },
  {
   "cell_type": "code",
   "execution_count": 20,
   "id": "0f1d96c9",
   "metadata": {},
   "outputs": [
    {
     "data": {
      "text/plain": [
       "<Axes: >"
      ]
     },
     "execution_count": 20,
     "metadata": {},
     "output_type": "execute_result"
    },
    {
     "data": {
      "image/png": "[encoded data removed]",
      "text/plain": [
       "<Figure size 640x480 with 2 Axes>"
      ]
     },
     "metadata": {},
     "output_type": "display_data"
    }
   ],
   "source": [
    "sns.heatmap(df.corr(), annot=True)"
   ]
  },
  {
   "cell_type": "markdown",
   "id": "452c2761",
   "metadata": {},
   "source": [
    "Анализируя корреляции между целевой переменной и признаками можно сделать следующие выводы:"
   ]
  },
  {
   "cell_type": "markdown",
   "id": "0720d2b3",
   "metadata": {},
   "source": [
    "1) Наибольшая степень связи вероятность дефолта с **коэффициентом RE/TA**. В дальнейшем анализе этому признаку будем уделять большое внимание."
   ]
  },
  {
   "cell_type": "markdown",
   "id": "b52d3fa3",
   "metadata": {},
   "source": [
    "2) **Коэффициент EBIT/TA** также сильно влияет на целевую переменую."
   ]
  },
  {
   "cell_type": "markdown",
   "id": "01aeffc8",
   "metadata": {},
   "source": [
    "3) Корреляции остальных коэфициентов с таргетом как минимум в 2 раза меньше."
   ]
  },
  {
   "cell_type": "markdown",
   "id": "046efa33",
   "metadata": {},
   "source": [
    "# Логистическая регрессия"
   ]
  },
  {
   "cell_type": "markdown",
   "id": "1057c386",
   "metadata": {},
   "source": [
    "Построим модель логистической регрессии, которая будет предсказывать вероятность дефолта."
   ]
  },
  {
   "cell_type": "code",
   "execution_count": 21,
   "id": "0adb0e69",
   "metadata": {},
   "outputs": [
    {
     "data": {
      "text/plain": [
       "Index(['ID', 'Year', 'Default', 'WC/TA', 'RE/TA', 'EBIT/TA', 'ME/TL', 'S/TA'], dtype='object')"
      ]
     },
     "execution_count": 21,
     "metadata": {},
     "output_type": "execute_result"
    }
   ],
   "source": [
    "df.columns"
   ]
  },
  {
   "cell_type": "markdown",
   "id": "4636bd31",
   "metadata": {},
   "source": [
    "Столбец ID не является информативным для анализа, поэтому модель будем строить без его учёта."
   ]
  },
  {
   "cell_type": "code",
   "execution_count": 66,
   "id": "b33c84f2",
   "metadata": {},
   "outputs": [],
   "source": [
    "from sklearn.model_selection import train_test_split\n",
    "\n",
    "X1 = df[['Year', 'WC/TA', 'RE/TA', 'EBIT/TA', 'ME/TL', 'S/TA']]\n",
    "y1 = df['Default']\n",
    "X1_train, X1_test, y1_train, y1_test = train_test_split(X1, y1, test_size = 0.2, random_state=42, stratify=y1)"
   ]
  },
  {
   "cell_type": "markdown",
   "id": "7b9c6178",
   "metadata": {},
   "source": [
    "Отнормируем данные:"
   ]
  },
  {
   "cell_type": "code",
   "execution_count": 67,
   "id": "821b0fc2",
   "metadata": {},
   "outputs": [],
   "source": [
    "from sklearn.preprocessing import StandardScaler, MinMaxScaler"
   ]
  },
  {
   "cell_type": "code",
   "execution_count": 68,
   "id": "a47c2a6e",
   "metadata": {},
   "outputs": [],
   "source": [
    "scaler = StandardScaler()\n",
    "\n",
    "X1_train = pd.DataFrame(scaler.fit_transform(X1_train), columns=X1.columns)\n",
    "X1_test = pd.DataFrame(scaler.transform(X1_test), columns=X1.columns)"
   ]
  },
  {
   "cell_type": "code",
   "execution_count": 69,
   "id": "eb2c3a57",
   "metadata": {},
   "outputs": [
    {
     "data": {
      "text/html": [
       "<div>\n",
       "<style scoped>\n",
       "    .dataframe tbody tr th:only-of-type {\n",
       "        vertical-align: middle;\n",
       "    }\n",
       "\n",
       "    .dataframe tbody tr th {\n",
       "        vertical-align: top;\n",
       "    }\n",
       "\n",
       "    .dataframe thead th {\n",
       "        text-align: right;\n",
       "    }\n",
       "</style>\n",
       "<table border=\"1\" class=\"dataframe\">\n",
       "  <thead>\n",
       "    <tr style=\"text-align: right;\">\n",
       "      <th></th>\n",
       "      <th>Year</th>\n",
       "      <th>WC/TA</th>\n",
       "      <th>RE/TA</th>\n",
       "      <th>EBIT/TA</th>\n",
       "      <th>ME/TL</th>\n",
       "      <th>S/TA</th>\n",
       "    </tr>\n",
       "  </thead>\n",
       "  <tbody>\n",
       "    <tr>\n",
       "      <th>0</th>\n",
       "      <td>0.423503</td>\n",
       "      <td>1.526417</td>\n",
       "      <td>-0.910074</td>\n",
       "      <td>0.555067</td>\n",
       "      <td>0.322021</td>\n",
       "      <td>-0.789953</td>\n",
       "    </tr>\n",
       "    <tr>\n",
       "      <th>1</th>\n",
       "      <td>0.787123</td>\n",
       "      <td>-0.383461</td>\n",
       "      <td>0.371246</td>\n",
       "      <td>0.585944</td>\n",
       "      <td>-0.393978</td>\n",
       "      <td>0.447157</td>\n",
       "    </tr>\n",
       "    <tr>\n",
       "      <th>2</th>\n",
       "      <td>-1.394595</td>\n",
       "      <td>0.411499</td>\n",
       "      <td>-0.226983</td>\n",
       "      <td>0.150522</td>\n",
       "      <td>-0.522014</td>\n",
       "      <td>-0.373491</td>\n",
       "    </tr>\n",
       "    <tr>\n",
       "      <th>3</th>\n",
       "      <td>1.514363</td>\n",
       "      <td>-0.142515</td>\n",
       "      <td>0.577855</td>\n",
       "      <td>0.627531</td>\n",
       "      <td>-0.372912</td>\n",
       "      <td>0.342391</td>\n",
       "    </tr>\n",
       "    <tr>\n",
       "      <th>4</th>\n",
       "      <td>-1.394595</td>\n",
       "      <td>-0.188267</td>\n",
       "      <td>0.761547</td>\n",
       "      <td>0.832161</td>\n",
       "      <td>0.730696</td>\n",
       "      <td>-0.020749</td>\n",
       "    </tr>\n",
       "  </tbody>\n",
       "</table>\n",
       "</div>"
      ],
      "text/plain": [
       "       Year     WC/TA     RE/TA   EBIT/TA     ME/TL      S/TA\n",
       "0  0.423503  1.526417 -0.910074  0.555067  0.322021 -0.789953\n",
       "1  0.787123 -0.383461  0.371246  0.585944 -0.393978  0.447157\n",
       "2 -1.394595  0.411499 -0.226983  0.150522 -0.522014 -0.373491\n",
       "3  1.514363 -0.142515  0.577855  0.627531 -0.372912  0.342391\n",
       "4 -1.394595 -0.188267  0.761547  0.832161  0.730696 -0.020749"
      ]
     },
     "execution_count": 69,
     "metadata": {},
     "output_type": "execute_result"
    }
   ],
   "source": [
    "X1_train.head()"
   ]
  },
  {
   "cell_type": "markdown",
   "id": "0c60e8b8",
   "metadata": {},
   "source": [
    "Строим модель:"
   ]
  },
  {
   "cell_type": "code",
   "execution_count": 70,
   "id": "193f9372",
   "metadata": {},
   "outputs": [
    {
     "data": {
      "text/html": [
       "<style>#sk-container-id-4 {color: black;background-color: white;}#sk-container-id-4 pre{padding: 0;}#sk-container-id-4 div.sk-toggleable {background-color: white;}#sk-container-id-4 label.sk-toggleable__label {cursor: pointer;display: block;width: 100%;margin-bottom: 0;padding: 0.3em;box-sizing: border-box;text-align: center;}#sk-container-id-4 label.sk-toggleable__label-arrow:before {content: \"▸\";float: left;margin-right: 0.25em;color: #696969;}#sk-container-id-4 label.sk-toggleable__label-arrow:hover:before {color: black;}#sk-container-id-4 div.sk-estimator:hover label.sk-toggleable__label-arrow:before {color: black;}#sk-container-id-4 div.sk-toggleable__content {max-height: 0;max-width: 0;overflow: hidden;text-align: left;background-color: #f0f8ff;}#sk-container-id-4 div.sk-toggleable__content pre {margin: 0.2em;color: black;border-radius: 0.25em;background-color: #f0f8ff;}#sk-container-id-4 input.sk-toggleable__control:checked~div.sk-toggleable__content {max-height: 200px;max-width: 100%;overflow: auto;}#sk-container-id-4 input.sk-toggleable__control:checked~label.sk-toggleable__label-arrow:before {content: \"▾\";}#sk-container-id-4 div.sk-estimator input.sk-toggleable__control:checked~label.sk-toggleable__label {background-color: #d4ebff;}#sk-container-id-4 div.sk-label input.sk-toggleable__control:checked~label.sk-toggleable__label {background-color: #d4ebff;}#sk-container-id-4 input.sk-hidden--visually {border: 0;clip: rect(1px 1px 1px 1px);clip: rect(1px, 1px, 1px, 1px);height: 1px;margin: -1px;overflow: hidden;padding: 0;position: absolute;width: 1px;}#sk-container-id-4 div.sk-estimator {font-family: monospace;background-color: #f0f8ff;border: 1px dotted black;border-radius: 0.25em;box-sizing: border-box;margin-bottom: 0.5em;}#sk-container-id-4 div.sk-estimator:hover {background-color: #d4ebff;}#sk-container-id-4 div.sk-parallel-item::after {content: \"\";width: 100%;border-bottom: 1px solid gray;flex-grow: 1;}#sk-container-id-4 div.sk-label:hover label.sk-toggleable__label {background-color: #d4ebff;}#sk-container-id-4 div.sk-serial::before {content: \"\";position: absolute;border-left: 1px solid gray;box-sizing: border-box;top: 0;bottom: 0;left: 50%;z-index: 0;}#sk-container-id-4 div.sk-serial {display: flex;flex-direction: column;align-items: center;background-color: white;padding-right: 0.2em;padding-left: 0.2em;position: relative;}#sk-container-id-4 div.sk-item {position: relative;z-index: 1;}#sk-container-id-4 div.sk-parallel {display: flex;align-items: stretch;justify-content: center;background-color: white;position: relative;}#sk-container-id-4 div.sk-item::before, #sk-container-id-4 div.sk-parallel-item::before {content: \"\";position: absolute;border-left: 1px solid gray;box-sizing: border-box;top: 0;bottom: 0;left: 50%;z-index: -1;}#sk-container-id-4 div.sk-parallel-item {display: flex;flex-direction: column;z-index: 1;position: relative;background-color: white;}#sk-container-id-4 div.sk-parallel-item:first-child::after {align-self: flex-end;width: 50%;}#sk-container-id-4 div.sk-parallel-item:last-child::after {align-self: flex-start;width: 50%;}#sk-container-id-4 div.sk-parallel-item:only-child::after {width: 0;}#sk-container-id-4 div.sk-dashed-wrapped {border: 1px dashed gray;margin: 0 0.4em 0.5em 0.4em;box-sizing: border-box;padding-bottom: 0.4em;background-color: white;}#sk-container-id-4 div.sk-label label {font-family: monospace;font-weight: bold;display: inline-block;line-height: 1.2em;}#sk-container-id-4 div.sk-label-container {text-align: center;}#sk-container-id-4 div.sk-container {/* jupyter's `normalize.less` sets `[hidden] { display: none; }` but bootstrap.min.css set `[hidden] { display: none !important; }` so we also need the `!important` here to be able to override the default hidden behavior on the sphinx rendered scikit-learn.org. See: https://github.com/scikit-learn/scikit-learn/issues/21755 */display: inline-block !important;position: relative;}#sk-container-id-4 div.sk-text-repr-fallback {display: none;}</style><div id=\"sk-container-id-4\" class=\"sk-top-container\"><div class=\"sk-text-repr-fallback\"><pre>LogisticRegression()</pre><b>In a Jupyter environment, please rerun this cell to show the HTML representation or trust the notebook. <br />On GitHub, the HTML representation is unable to render, please try loading this page with nbviewer.org.</b></div><div class=\"sk-container\" hidden><div class=\"sk-item\"><div class=\"sk-estimator sk-toggleable\"><input class=\"sk-toggleable__control sk-hidden--visually\" id=\"sk-estimator-id-6\" type=\"checkbox\" checked><label for=\"sk-estimator-id-6\" class=\"sk-toggleable__label sk-toggleable__label-arrow\">LogisticRegression</label><div class=\"sk-toggleable__content\"><pre>LogisticRegression()</pre></div></div></div></div></div>"
      ],
      "text/plain": [
       "LogisticRegression()"
      ]
     },
     "execution_count": 70,
     "metadata": {},
     "output_type": "execute_result"
    }
   ],
   "source": [
    "from sklearn.linear_model import LogisticRegression\n",
    "\n",
    "\n",
    "lr1 =  LogisticRegression()\n",
    "\n",
    "\n",
    "lr1.fit(X1_train, y1_train)"
   ]
  },
  {
   "cell_type": "code",
   "execution_count": 71,
   "id": "25caa37f",
   "metadata": {},
   "outputs": [],
   "source": [
    "lr1_pred = lr1.predict(X1_test)"
   ]
  },
  {
   "cell_type": "code",
   "execution_count": 72,
   "id": "855ac0dc",
   "metadata": {},
   "outputs": [],
   "source": [
    "from sklearn.metrics import (accuracy_score, auc, classification_report,\n",
    "                             confusion_matrix, f1_score, roc_curve)\n",
    "from sklearn.model_selection import cross_validate, train_test_split"
   ]
  },
  {
   "cell_type": "code",
   "execution_count": 73,
   "id": "10266e47",
   "metadata": {},
   "outputs": [
    {
     "name": "stdout",
     "output_type": "stream",
     "text": [
      "              precision    recall  f1-score   support\n",
      "\n",
      "           0       0.98      1.00      0.99       786\n",
      "           1       0.50      0.07      0.12        14\n",
      "\n",
      "    accuracy                           0.98       800\n",
      "   macro avg       0.74      0.54      0.56       800\n",
      "weighted avg       0.98      0.98      0.98       800\n",
      "\n"
     ]
    }
   ],
   "source": [
    "print(classification_report(y1_test, lr1_pred))"
   ]
  },
  {
   "cell_type": "code",
   "execution_count": 74,
   "id": "0e443a8f",
   "metadata": {},
   "outputs": [
    {
     "data": {
      "text/plain": [
       "array([[785,   1],\n",
       "       [ 13,   1]], dtype=int64)"
      ]
     },
     "execution_count": 74,
     "metadata": {},
     "output_type": "execute_result"
    }
   ],
   "source": [
    "confusion_matrix(y1_test, lr1_pred)"
   ]
  },
  {
   "cell_type": "markdown",
   "id": "bbb51855",
   "metadata": {},
   "source": [
    "Такая модель очень плохо предсказывает положительный класс. Я пришёл к вывод, что это происходит из-за существенного дисбаланса классов. Поэтому я сократил обучающую выборку для балансировки классов и построил новую модель."
   ]
  },
  {
   "cell_type": "code",
   "execution_count": 75,
   "id": "6ec90b75",
   "metadata": {},
   "outputs": [],
   "source": [
    "from imblearn.under_sampling import RandomUnderSampler\n",
    "\n",
    "# Создаю экземпляр RandomUnderSampler\n",
    "rus = RandomUnderSampler()\n",
    "\n",
    "# Применяю уменьшение выборки к данным\n",
    "X1_new, y1_new = rus.fit_resample(X1, y1)"
   ]
  },
  {
   "cell_type": "code",
   "execution_count": 76,
   "id": "41c6223a",
   "metadata": {},
   "outputs": [],
   "source": [
    "X1new_train, X1new_test, y1new_train, y1new_test = train_test_split(X1_new, y1_new, test_size = 0.25, random_state=42, stratify=y1_new)"
   ]
  },
  {
   "cell_type": "code",
   "execution_count": 77,
   "id": "eaa7c8f2",
   "metadata": {},
   "outputs": [],
   "source": [
    "scaler1 = StandardScaler()\n",
    "\n",
    "X1new_train = pd.DataFrame(scaler1.fit_transform(X1new_train), columns=X1_new.columns)\n",
    "X1new_test = pd.DataFrame(scaler1.transform(X1new_test), columns=X1_new.columns)"
   ]
  },
  {
   "cell_type": "code",
   "execution_count": 78,
   "id": "b93e76a8",
   "metadata": {},
   "outputs": [],
   "source": [
    "mod_new = LogisticRegression()\n",
    "\n",
    "\n",
    "mod_new.fit(X1new_train, y1new_train)\n",
    "\n",
    "\n",
    "mod_new_pred = mod_new.predict(X1new_test)"
   ]
  },
  {
   "cell_type": "code",
   "execution_count": 79,
   "id": "d6c4f3a5",
   "metadata": {},
   "outputs": [
    {
     "name": "stdout",
     "output_type": "stream",
     "text": [
      "              precision    recall  f1-score   support\n",
      "\n",
      "           0       0.80      0.89      0.84        18\n",
      "           1       0.88      0.78      0.82        18\n",
      "\n",
      "    accuracy                           0.83        36\n",
      "   macro avg       0.84      0.83      0.83        36\n",
      "weighted avg       0.84      0.83      0.83        36\n",
      "\n"
     ]
    }
   ],
   "source": [
    "print(classification_report(y1new_test, mod_new_pred))"
   ]
  },
  {
   "cell_type": "code",
   "execution_count": 80,
   "id": "320b32c6",
   "metadata": {},
   "outputs": [
    {
     "data": {
      "text/plain": [
       "array([[16,  2],\n",
       "       [ 4, 14]], dtype=int64)"
      ]
     },
     "execution_count": 80,
     "metadata": {},
     "output_type": "execute_result"
    }
   ],
   "source": [
    "confusion_matrix(y1new_test, mod_new_pred)"
   ]
  },
  {
   "cell_type": "markdown",
   "id": "01986776",
   "metadata": {},
   "source": [
    "Качество модели значительно улучшилось."
   ]
  },
  {
   "cell_type": "markdown",
   "id": "12831c4b",
   "metadata": {},
   "source": [
    "Рассчитаем ROC-AUC модели и построим его график в сравнении со случайным классификатором"
   ]
  },
  {
   "cell_type": "code",
   "execution_count": 81,
   "id": "c10f2f80",
   "metadata": {},
   "outputs": [
    {
     "data": {
      "text/plain": [
       "0.8333333333333333"
      ]
     },
     "execution_count": 81,
     "metadata": {},
     "output_type": "execute_result"
    }
   ],
   "source": [
    "from sklearn.metrics import roc_curve, roc_auc_score\n",
    "\n",
    "roc_auc_new = roc_auc_score(y1new_test, mod_new_pred)\n",
    "\n",
    "roc_auc_new"
   ]
  },
  {
   "cell_type": "code",
   "execution_count": 82,
   "id": "503ba320",
   "metadata": {},
   "outputs": [
    {
     "name": "stderr",
     "output_type": "stream",
     "text": [
      "C:\\Users\\Gavrin Gleb\\AppData\\Local\\Temp\\ipykernel_5892\\2269618362.py:8: UserWarning: color is redundantly defined by the 'color' keyword argument and the fmt string \"k--\" (-> color='k'). The keyword argument will take precedence.\n",
      "  plt.plot([0, 1], [0, 1], 'k--',\n"
     ]
    },
    {
     "data": {
      "text/plain": [
       "<matplotlib.legend.Legend at 0xc5a030bc40>"
      ]
     },
     "execution_count": 82,
     "metadata": {},
     "output_type": "execute_result"
    },
    {
     "data": {
      "image/png": "[encoded data removed]",
      "text/plain": [
       "<Figure size 1000x500 with 1 Axes>"
      ]
     },
     "metadata": {},
     "output_type": "display_data"
    }
   ],
   "source": [
    "fig, ax = plt.subplots(1, 1, figsize = (10, 5))\n",
    "\n",
    "fpr1, tpr1, thresholds1 = roc_curve(y1new_test, mod_new_pred, pos_label=1) \n",
    "\n",
    "\n",
    "d = {1: [(fpr1, tpr1), roc_auc_new, 'b']}\n",
    "\n",
    "plt.plot([0, 1], [0, 1], 'k--',\n",
    "         label='Cлучайный классификатор',\n",
    "         color = 'r', )\n",
    "plt.xlabel('False Positive Rate')\n",
    "plt.ylabel('True Positive Rate')\n",
    "plt.title('ROC Curve')\n",
    "\n",
    "for k,v in d.items():\n",
    "  plt.plot(v[0][0], v[0][1],\n",
    "           label=f'Модель c ROC-AUC = 0.83')\n",
    "plt.legend(loc=\"lower right\")"
   ]
  },
  {
   "cell_type": "markdown",
   "id": "609c4738",
   "metadata": {},
   "source": [
    "Видим, что наша модель намного лучше случайного классификатора"
   ]
  },
  {
   "cell_type": "markdown",
   "id": "dd505c05",
   "metadata": {},
   "source": [
    "Выведем **коэффициенты логистической регрессии**:"
   ]
  },
  {
   "cell_type": "code",
   "execution_count": 83,
   "id": "978c9dd4",
   "metadata": {},
   "outputs": [
    {
     "data": {
      "text/plain": [
       "array([[-0.16791317,  0.29429062, -2.27468564, -1.43183472, -0.44999585,\n",
       "         0.5319298 ]])"
      ]
     },
     "execution_count": 83,
     "metadata": {},
     "output_type": "execute_result"
    }
   ],
   "source": [
    "mod_new.coef_ #коэффициенты перед признаками"
   ]
  },
  {
   "cell_type": "code",
   "execution_count": 84,
   "id": "c68e60ef",
   "metadata": {},
   "outputs": [
    {
     "name": "stdout",
     "output_type": "stream",
     "text": [
      "[0.33058556]\n"
     ]
    }
   ],
   "source": [
    "print(mod_new.intercept_)  #свободный коэффициент"
   ]
  },
  {
   "cell_type": "markdown",
   "id": "4b179378",
   "metadata": {},
   "source": [
    "# Расчёт значимости коэффициентов (p-value)"
   ]
  },
  {
   "cell_type": "markdown",
   "id": "a66d3510",
   "metadata": {},
   "source": [
    "Так как в sklearn нет встроенной функции для расчёта p-value, я реализую аналогичную регрессию в statsmodels и возьму p-value из неё"
   ]
  },
  {
   "cell_type": "code",
   "execution_count": 85,
   "id": "b6b4104b",
   "metadata": {},
   "outputs": [],
   "source": [
    "import statsmodels.api as sm\n",
    "y1new_train_list = list(y1new_train)\n",
    "log_reg_sm = sm.OLS(y1new_train_list, sm.add_constant(X1new_train)).fit()"
   ]
  },
  {
   "cell_type": "code",
   "execution_count": 86,
   "id": "1ff7f51c",
   "metadata": {},
   "outputs": [
    {
     "name": "stdout",
     "output_type": "stream",
     "text": [
      "                            OLS Regression Results                            \n",
      "==============================================================================\n",
      "Dep. Variable:                      y   R-squared:                       0.392\n",
      "Model:                            OLS   Adj. R-squared:                  0.356\n",
      "Method:                 Least Squares   F-statistic:                     10.87\n",
      "Date:                Thu, 23 May 2024   Prob (F-statistic):           2.61e-09\n",
      "Time:                        22:02:28   Log-Likelihood:                -51.477\n",
      "No. Observations:                 108   AIC:                             117.0\n",
      "Df Residuals:                     101   BIC:                             135.7\n",
      "Df Model:                           6                                         \n",
      "Covariance Type:            nonrobust                                         \n",
      "==============================================================================\n",
      "                 coef    std err          t      P>|t|      [0.025      0.975]\n",
      "------------------------------------------------------------------------------\n",
      "const          0.5000      0.039     12.893      0.000       0.423       0.577\n",
      "Year          -0.0510      0.041     -1.243      0.217      -0.132       0.030\n",
      "WC/TA          0.1121      0.058      1.930      0.056      -0.003       0.227\n",
      "RE/TA         -0.2148      0.048     -4.502      0.000      -0.309      -0.120\n",
      "EBIT/TA       -0.0892      0.060     -1.478      0.142      -0.209       0.031\n",
      "ME/TL         -0.1254      0.043     -2.935      0.004      -0.210      -0.041\n",
      "S/TA           0.0588      0.041      1.421      0.158      -0.023       0.141\n",
      "==============================================================================\n",
      "Omnibus:                       20.726   Durbin-Watson:                   2.007\n",
      "Prob(Omnibus):                  0.000   Jarque-Bera (JB):                5.407\n",
      "Skew:                           0.132   Prob(JB):                       0.0670\n",
      "Kurtosis:                       1.936   Cond. No.                         3.00\n",
      "==============================================================================\n",
      "\n",
      "Notes:\n",
      "[1] Standard Errors assume that the covariance matrix of the errors is correctly specified.\n"
     ]
    }
   ],
   "source": [
    "print(log_reg_sm.summary())"
   ]
  },
  {
   "cell_type": "markdown",
   "id": "73323651",
   "metadata": {},
   "source": [
    "**Интерпретация p-value**"
   ]
  },
  {
   "cell_type": "markdown",
   "id": "058da628",
   "metadata": {},
   "source": [
    "Как правило, если для признака (P > |t|) < 0.05 , то гипотеза о важности признака принимается. В данной модели важными будут показатели Year, RE/TA и ME/TL."
   ]
  },
  {
   "cell_type": "markdown",
   "id": "ad3f838b",
   "metadata": {},
   "source": [
    "## Улучшенная модель"
   ]
  },
  {
   "cell_type": "markdown",
   "id": "cc2b2524",
   "metadata": {},
   "source": [
    "Мне кажется, что можно добиться лучшего качества прогнозов. Попробуем использовать регуляризацию из GridSearchCV:"
   ]
  },
  {
   "cell_type": "code",
   "execution_count": 87,
   "id": "803644ef",
   "metadata": {},
   "outputs": [],
   "source": [
    "param_grid = [\n",
    "    {'penalty':['l1','l2','elasticnet','none'],\n",
    "    'C' : np.logspace(-4,4,20),\n",
    "    'solver': ['lbfgs','newton-cg','liblinear','sag','saga'],\n",
    "    'max_iter'  : [100,1000,2500,5000]\n",
    "}\n",
    "]"
   ]
  },
  {
   "cell_type": "code",
   "execution_count": 88,
   "id": "20087f58",
   "metadata": {},
   "outputs": [
    {
     "data": {
      "text/html": [
       "<style>#sk-container-id-5 {color: black;background-color: white;}#sk-container-id-5 pre{padding: 0;}#sk-container-id-5 div.sk-toggleable {background-color: white;}#sk-container-id-5 label.sk-toggleable__label {cursor: pointer;display: block;width: 100%;margin-bottom: 0;padding: 0.3em;box-sizing: border-box;text-align: center;}#sk-container-id-5 label.sk-toggleable__label-arrow:before {content: \"▸\";float: left;margin-right: 0.25em;color: #696969;}#sk-container-id-5 label.sk-toggleable__label-arrow:hover:before {color: black;}#sk-container-id-5 div.sk-estimator:hover label.sk-toggleable__label-arrow:before {color: black;}#sk-container-id-5 div.sk-toggleable__content {max-height: 0;max-width: 0;overflow: hidden;text-align: left;background-color: #f0f8ff;}#sk-container-id-5 div.sk-toggleable__content pre {margin: 0.2em;color: black;border-radius: 0.25em;background-color: #f0f8ff;}#sk-container-id-5 input.sk-toggleable__control:checked~div.sk-toggleable__content {max-height: 200px;max-width: 100%;overflow: auto;}#sk-container-id-5 input.sk-toggleable__control:checked~label.sk-toggleable__label-arrow:before {content: \"▾\";}#sk-container-id-5 div.sk-estimator input.sk-toggleable__control:checked~label.sk-toggleable__label {background-color: #d4ebff;}#sk-container-id-5 div.sk-label input.sk-toggleable__control:checked~label.sk-toggleable__label {background-color: #d4ebff;}#sk-container-id-5 input.sk-hidden--visually {border: 0;clip: rect(1px 1px 1px 1px);clip: rect(1px, 1px, 1px, 1px);height: 1px;margin: -1px;overflow: hidden;padding: 0;position: absolute;width: 1px;}#sk-container-id-5 div.sk-estimator {font-family: monospace;background-color: #f0f8ff;border: 1px dotted black;border-radius: 0.25em;box-sizing: border-box;margin-bottom: 0.5em;}#sk-container-id-5 div.sk-estimator:hover {background-color: #d4ebff;}#sk-container-id-5 div.sk-parallel-item::after {content: \"\";width: 100%;border-bottom: 1px solid gray;flex-grow: 1;}#sk-container-id-5 div.sk-label:hover label.sk-toggleable__label {background-color: #d4ebff;}#sk-container-id-5 div.sk-serial::before {content: \"\";position: absolute;border-left: 1px solid gray;box-sizing: border-box;top: 0;bottom: 0;left: 50%;z-index: 0;}#sk-container-id-5 div.sk-serial {display: flex;flex-direction: column;align-items: center;background-color: white;padding-right: 0.2em;padding-left: 0.2em;position: relative;}#sk-container-id-5 div.sk-item {position: relative;z-index: 1;}#sk-container-id-5 div.sk-parallel {display: flex;align-items: stretch;justify-content: center;background-color: white;position: relative;}#sk-container-id-5 div.sk-item::before, #sk-container-id-5 div.sk-parallel-item::before {content: \"\";position: absolute;border-left: 1px solid gray;box-sizing: border-box;top: 0;bottom: 0;left: 50%;z-index: -1;}#sk-container-id-5 div.sk-parallel-item {display: flex;flex-direction: column;z-index: 1;position: relative;background-color: white;}#sk-container-id-5 div.sk-parallel-item:first-child::after {align-self: flex-end;width: 50%;}#sk-container-id-5 div.sk-parallel-item:last-child::after {align-self: flex-start;width: 50%;}#sk-container-id-5 div.sk-parallel-item:only-child::after {width: 0;}#sk-container-id-5 div.sk-dashed-wrapped {border: 1px dashed gray;margin: 0 0.4em 0.5em 0.4em;box-sizing: border-box;padding-bottom: 0.4em;background-color: white;}#sk-container-id-5 div.sk-label label {font-family: monospace;font-weight: bold;display: inline-block;line-height: 1.2em;}#sk-container-id-5 div.sk-label-container {text-align: center;}#sk-container-id-5 div.sk-container {/* jupyter's `normalize.less` sets `[hidden] { display: none; }` but bootstrap.min.css set `[hidden] { display: none !important; }` so we also need the `!important` here to be able to override the default hidden behavior on the sphinx rendered scikit-learn.org. See: https://github.com/scikit-learn/scikit-learn/issues/21755 */display: inline-block !important;position: relative;}#sk-container-id-5 div.sk-text-repr-fallback {display: none;}</style><div id=\"sk-container-id-5\" class=\"sk-top-container\"><div class=\"sk-text-repr-fallback\"><pre>GridSearchCV(cv=3, estimator=LogisticRegression(), n_jobs=-1,\n",
       "             param_grid=[{&#x27;C&#x27;: array([1.00000000e-04, 2.63665090e-04, 6.95192796e-04, 1.83298071e-03,\n",
       "       4.83293024e-03, 1.27427499e-02, 3.35981829e-02, 8.85866790e-02,\n",
       "       2.33572147e-01, 6.15848211e-01, 1.62377674e+00, 4.28133240e+00,\n",
       "       1.12883789e+01, 2.97635144e+01, 7.84759970e+01, 2.06913808e+02,\n",
       "       5.45559478e+02, 1.43844989e+03, 3.79269019e+03, 1.00000000e+04]),\n",
       "                          &#x27;max_iter&#x27;: [100, 1000, 2500, 5000],\n",
       "                          &#x27;penalty&#x27;: [&#x27;l1&#x27;, &#x27;l2&#x27;, &#x27;elasticnet&#x27;, &#x27;none&#x27;],\n",
       "                          &#x27;solver&#x27;: [&#x27;lbfgs&#x27;, &#x27;newton-cg&#x27;, &#x27;liblinear&#x27;, &#x27;sag&#x27;,\n",
       "                                     &#x27;saga&#x27;]}],\n",
       "             verbose=True)</pre><b>In a Jupyter environment, please rerun this cell to show the HTML representation or trust the notebook. <br />On GitHub, the HTML representation is unable to render, please try loading this page with nbviewer.org.</b></div><div class=\"sk-container\" hidden><div class=\"sk-item sk-dashed-wrapped\"><div class=\"sk-label-container\"><div class=\"sk-label sk-toggleable\"><input class=\"sk-toggleable__control sk-hidden--visually\" id=\"sk-estimator-id-7\" type=\"checkbox\" ><label for=\"sk-estimator-id-7\" class=\"sk-toggleable__label sk-toggleable__label-arrow\">GridSearchCV</label><div class=\"sk-toggleable__content\"><pre>GridSearchCV(cv=3, estimator=LogisticRegression(), n_jobs=-1,\n",
       "             param_grid=[{&#x27;C&#x27;: array([1.00000000e-04, 2.63665090e-04, 6.95192796e-04, 1.83298071e-03,\n",
       "       4.83293024e-03, 1.27427499e-02, 3.35981829e-02, 8.85866790e-02,\n",
       "       2.33572147e-01, 6.15848211e-01, 1.62377674e+00, 4.28133240e+00,\n",
       "       1.12883789e+01, 2.97635144e+01, 7.84759970e+01, 2.06913808e+02,\n",
       "       5.45559478e+02, 1.43844989e+03, 3.79269019e+03, 1.00000000e+04]),\n",
       "                          &#x27;max_iter&#x27;: [100, 1000, 2500, 5000],\n",
       "                          &#x27;penalty&#x27;: [&#x27;l1&#x27;, &#x27;l2&#x27;, &#x27;elasticnet&#x27;, &#x27;none&#x27;],\n",
       "                          &#x27;solver&#x27;: [&#x27;lbfgs&#x27;, &#x27;newton-cg&#x27;, &#x27;liblinear&#x27;, &#x27;sag&#x27;,\n",
       "                                     &#x27;saga&#x27;]}],\n",
       "             verbose=True)</pre></div></div></div><div class=\"sk-parallel\"><div class=\"sk-parallel-item\"><div class=\"sk-item\"><div class=\"sk-label-container\"><div class=\"sk-label sk-toggleable\"><input class=\"sk-toggleable__control sk-hidden--visually\" id=\"sk-estimator-id-8\" type=\"checkbox\" ><label for=\"sk-estimator-id-8\" class=\"sk-toggleable__label sk-toggleable__label-arrow\">estimator: LogisticRegression</label><div class=\"sk-toggleable__content\"><pre>LogisticRegression()</pre></div></div></div><div class=\"sk-serial\"><div class=\"sk-item\"><div class=\"sk-estimator sk-toggleable\"><input class=\"sk-toggleable__control sk-hidden--visually\" id=\"sk-estimator-id-9\" type=\"checkbox\" ><label for=\"sk-estimator-id-9\" class=\"sk-toggleable__label sk-toggleable__label-arrow\">LogisticRegression</label><div class=\"sk-toggleable__content\"><pre>LogisticRegression()</pre></div></div></div></div></div></div></div></div></div></div>"
      ],
      "text/plain": [
       "GridSearchCV(cv=3, estimator=LogisticRegression(), n_jobs=-1,\n",
       "             param_grid=[{'C': array([1.00000000e-04, 2.63665090e-04, 6.95192796e-04, 1.83298071e-03,\n",
       "       4.83293024e-03, 1.27427499e-02, 3.35981829e-02, 8.85866790e-02,\n",
       "       2.33572147e-01, 6.15848211e-01, 1.62377674e+00, 4.28133240e+00,\n",
       "       1.12883789e+01, 2.97635144e+01, 7.84759970e+01, 2.06913808e+02,\n",
       "       5.45559478e+02, 1.43844989e+03, 3.79269019e+03, 1.00000000e+04]),\n",
       "                          'max_iter': [100, 1000, 2500, 5000],\n",
       "                          'penalty': ['l1', 'l2', 'elasticnet', 'none'],\n",
       "                          'solver': ['lbfgs', 'newton-cg', 'liblinear', 'sag',\n",
       "                                     'saga']}],\n",
       "             verbose=True)"
      ]
     },
     "execution_count": 88,
     "metadata": {},
     "output_type": "execute_result"
    }
   ],
   "source": [
    "from sklearn.model_selection import GridSearchCV\n",
    "clf = GridSearchCV(mod_new,param_grid = param_grid, cv = 3, verbose=True,n_jobs=-1)\n",
    "clf"
   ]
  },
  {
   "cell_type": "code",
   "execution_count": 89,
   "id": "918f0fdc",
   "metadata": {},
   "outputs": [
    {
     "name": "stdout",
     "output_type": "stream",
     "text": [
      "Fitting 3 folds for each of 1600 candidates, totalling 4800 fits\n"
     ]
    },
    {
     "name": "stderr",
     "output_type": "stream",
     "text": [
      "C:\\Users\\Gavrin Gleb\\anaconda3\\lib\\site-packages\\sklearn\\model_selection\\_validation.py:378: FitFailedWarning: \n",
      "2160 fits failed out of a total of 4800.\n",
      "The score on these train-test partitions for these parameters will be set to nan.\n",
      "If these failures are not expected, you can try to debug them by setting error_score='raise'.\n",
      "\n",
      "Below are more details about the failures:\n",
      "--------------------------------------------------------------------------------\n",
      "240 fits failed with the following error:\n",
      "Traceback (most recent call last):\n",
      "  File \"C:\\Users\\Gavrin Gleb\\anaconda3\\lib\\site-packages\\sklearn\\model_selection\\_validation.py\", line 686, in _fit_and_score\n",
      "    estimator.fit(X_train, y_train, **fit_params)\n",
      "  File \"C:\\Users\\Gavrin Gleb\\anaconda3\\lib\\site-packages\\sklearn\\linear_model\\_logistic.py\", line 1162, in fit\n",
      "    solver = _check_solver(self.solver, self.penalty, self.dual)\n",
      "  File \"C:\\Users\\Gavrin Gleb\\anaconda3\\lib\\site-packages\\sklearn\\linear_model\\_logistic.py\", line 54, in _check_solver\n",
      "    raise ValueError(\n",
      "ValueError: Solver lbfgs supports only 'l2' or 'none' penalties, got l1 penalty.\n",
      "\n",
      "--------------------------------------------------------------------------------\n",
      "240 fits failed with the following error:\n",
      "Traceback (most recent call last):\n",
      "  File \"C:\\Users\\Gavrin Gleb\\anaconda3\\lib\\site-packages\\sklearn\\model_selection\\_validation.py\", line 686, in _fit_and_score\n",
      "    estimator.fit(X_train, y_train, **fit_params)\n",
      "  File \"C:\\Users\\Gavrin Gleb\\anaconda3\\lib\\site-packages\\sklearn\\linear_model\\_logistic.py\", line 1162, in fit\n",
      "    solver = _check_solver(self.solver, self.penalty, self.dual)\n",
      "  File \"C:\\Users\\Gavrin Gleb\\anaconda3\\lib\\site-packages\\sklearn\\linear_model\\_logistic.py\", line 54, in _check_solver\n",
      "    raise ValueError(\n",
      "ValueError: Solver newton-cg supports only 'l2' or 'none' penalties, got l1 penalty.\n",
      "\n",
      "--------------------------------------------------------------------------------\n",
      "240 fits failed with the following error:\n",
      "Traceback (most recent call last):\n",
      "  File \"C:\\Users\\Gavrin Gleb\\anaconda3\\lib\\site-packages\\sklearn\\model_selection\\_validation.py\", line 686, in _fit_and_score\n",
      "    estimator.fit(X_train, y_train, **fit_params)\n",
      "  File \"C:\\Users\\Gavrin Gleb\\anaconda3\\lib\\site-packages\\sklearn\\linear_model\\_logistic.py\", line 1162, in fit\n",
      "    solver = _check_solver(self.solver, self.penalty, self.dual)\n",
      "  File \"C:\\Users\\Gavrin Gleb\\anaconda3\\lib\\site-packages\\sklearn\\linear_model\\_logistic.py\", line 54, in _check_solver\n",
      "    raise ValueError(\n",
      "ValueError: Solver sag supports only 'l2' or 'none' penalties, got l1 penalty.\n",
      "\n",
      "--------------------------------------------------------------------------------\n",
      "240 fits failed with the following error:\n",
      "Traceback (most recent call last):\n",
      "  File \"C:\\Users\\Gavrin Gleb\\anaconda3\\lib\\site-packages\\sklearn\\model_selection\\_validation.py\", line 686, in _fit_and_score\n",
      "    estimator.fit(X_train, y_train, **fit_params)\n",
      "  File \"C:\\Users\\Gavrin Gleb\\anaconda3\\lib\\site-packages\\sklearn\\linear_model\\_logistic.py\", line 1162, in fit\n",
      "    solver = _check_solver(self.solver, self.penalty, self.dual)\n",
      "  File \"C:\\Users\\Gavrin Gleb\\anaconda3\\lib\\site-packages\\sklearn\\linear_model\\_logistic.py\", line 54, in _check_solver\n",
      "    raise ValueError(\n",
      "ValueError: Solver lbfgs supports only 'l2' or 'none' penalties, got elasticnet penalty.\n",
      "\n",
      "--------------------------------------------------------------------------------\n",
      "240 fits failed with the following error:\n",
      "Traceback (most recent call last):\n",
      "  File \"C:\\Users\\Gavrin Gleb\\anaconda3\\lib\\site-packages\\sklearn\\model_selection\\_validation.py\", line 686, in _fit_and_score\n",
      "    estimator.fit(X_train, y_train, **fit_params)\n",
      "  File \"C:\\Users\\Gavrin Gleb\\anaconda3\\lib\\site-packages\\sklearn\\linear_model\\_logistic.py\", line 1162, in fit\n",
      "    solver = _check_solver(self.solver, self.penalty, self.dual)\n",
      "  File \"C:\\Users\\Gavrin Gleb\\anaconda3\\lib\\site-packages\\sklearn\\linear_model\\_logistic.py\", line 54, in _check_solver\n",
      "    raise ValueError(\n",
      "ValueError: Solver newton-cg supports only 'l2' or 'none' penalties, got elasticnet penalty.\n",
      "\n",
      "--------------------------------------------------------------------------------\n",
      "240 fits failed with the following error:\n",
      "Traceback (most recent call last):\n",
      "  File \"C:\\Users\\Gavrin Gleb\\anaconda3\\lib\\site-packages\\sklearn\\model_selection\\_validation.py\", line 686, in _fit_and_score\n",
      "    estimator.fit(X_train, y_train, **fit_params)\n",
      "  File \"C:\\Users\\Gavrin Gleb\\anaconda3\\lib\\site-packages\\sklearn\\linear_model\\_logistic.py\", line 1162, in fit\n",
      "    solver = _check_solver(self.solver, self.penalty, self.dual)\n",
      "  File \"C:\\Users\\Gavrin Gleb\\anaconda3\\lib\\site-packages\\sklearn\\linear_model\\_logistic.py\", line 64, in _check_solver\n",
      "    raise ValueError(\n",
      "ValueError: Only 'saga' solver supports elasticnet penalty, got solver=liblinear.\n",
      "\n",
      "--------------------------------------------------------------------------------\n",
      "240 fits failed with the following error:\n",
      "Traceback (most recent call last):\n",
      "  File \"C:\\Users\\Gavrin Gleb\\anaconda3\\lib\\site-packages\\sklearn\\model_selection\\_validation.py\", line 686, in _fit_and_score\n",
      "    estimator.fit(X_train, y_train, **fit_params)\n",
      "  File \"C:\\Users\\Gavrin Gleb\\anaconda3\\lib\\site-packages\\sklearn\\linear_model\\_logistic.py\", line 1162, in fit\n",
      "    solver = _check_solver(self.solver, self.penalty, self.dual)\n",
      "  File \"C:\\Users\\Gavrin Gleb\\anaconda3\\lib\\site-packages\\sklearn\\linear_model\\_logistic.py\", line 54, in _check_solver\n",
      "    raise ValueError(\n",
      "ValueError: Solver sag supports only 'l2' or 'none' penalties, got elasticnet penalty.\n",
      "\n",
      "--------------------------------------------------------------------------------\n",
      "240 fits failed with the following error:\n",
      "Traceback (most recent call last):\n",
      "  File \"C:\\Users\\Gavrin Gleb\\anaconda3\\lib\\site-packages\\sklearn\\model_selection\\_validation.py\", line 686, in _fit_and_score\n",
      "    estimator.fit(X_train, y_train, **fit_params)\n",
      "  File \"C:\\Users\\Gavrin Gleb\\anaconda3\\lib\\site-packages\\sklearn\\linear_model\\_logistic.py\", line 1291, in fit\n",
      "    fold_coefs_ = Parallel(n_jobs=self.n_jobs, verbose=self.verbose, prefer=prefer)(\n",
      "  File \"C:\\Users\\Gavrin Gleb\\anaconda3\\lib\\site-packages\\sklearn\\utils\\parallel.py\", line 63, in __call__\n",
      "    return super().__call__(iterable_with_config)\n",
      "  File \"C:\\Users\\Gavrin Gleb\\anaconda3\\lib\\site-packages\\joblib\\parallel.py\", line 1048, in __call__\n",
      "    if self.dispatch_one_batch(iterator):\n",
      "  File \"C:\\Users\\Gavrin Gleb\\anaconda3\\lib\\site-packages\\joblib\\parallel.py\", line 864, in dispatch_one_batch\n",
      "    self._dispatch(tasks)\n",
      "  File \"C:\\Users\\Gavrin Gleb\\anaconda3\\lib\\site-packages\\joblib\\parallel.py\", line 782, in _dispatch\n",
      "    job = self._backend.apply_async(batch, callback=cb)\n",
      "  File \"C:\\Users\\Gavrin Gleb\\anaconda3\\lib\\site-packages\\joblib\\_parallel_backends.py\", line 208, in apply_async\n",
      "    result = ImmediateResult(func)\n",
      "  File \"C:\\Users\\Gavrin Gleb\\anaconda3\\lib\\site-packages\\joblib\\_parallel_backends.py\", line 572, in __init__\n",
      "    self.results = batch()\n",
      "  File \"C:\\Users\\Gavrin Gleb\\anaconda3\\lib\\site-packages\\joblib\\parallel.py\", line 263, in __call__\n",
      "    return [func(*args, **kwargs)\n",
      "  File \"C:\\Users\\Gavrin Gleb\\anaconda3\\lib\\site-packages\\joblib\\parallel.py\", line 263, in <listcomp>\n",
      "    return [func(*args, **kwargs)\n",
      "  File \"C:\\Users\\Gavrin Gleb\\anaconda3\\lib\\site-packages\\sklearn\\utils\\parallel.py\", line 123, in __call__\n",
      "    return self.function(*args, **kwargs)\n",
      "  File \"C:\\Users\\Gavrin Gleb\\anaconda3\\lib\\site-packages\\sklearn\\linear_model\\_logistic.py\", line 521, in _logistic_regression_path\n",
      "    alpha = (1.0 / C) * (1 - l1_ratio)\n",
      "TypeError: unsupported operand type(s) for -: 'int' and 'NoneType'\n",
      "\n",
      "--------------------------------------------------------------------------------\n",
      "240 fits failed with the following error:\n",
      "Traceback (most recent call last):\n",
      "  File \"C:\\Users\\Gavrin Gleb\\anaconda3\\lib\\site-packages\\sklearn\\model_selection\\_validation.py\", line 686, in _fit_and_score\n",
      "    estimator.fit(X_train, y_train, **fit_params)\n",
      "  File \"C:\\Users\\Gavrin Gleb\\anaconda3\\lib\\site-packages\\sklearn\\linear_model\\_logistic.py\", line 1162, in fit\n",
      "    solver = _check_solver(self.solver, self.penalty, self.dual)\n",
      "  File \"C:\\Users\\Gavrin Gleb\\anaconda3\\lib\\site-packages\\sklearn\\linear_model\\_logistic.py\", line 71, in _check_solver\n",
      "    raise ValueError(\"penalty='none' is not supported for the liblinear solver\")\n",
      "ValueError: penalty='none' is not supported for the liblinear solver\n",
      "\n",
      "  warnings.warn(some_fits_failed_message, FitFailedWarning)\n",
      "C:\\Users\\Gavrin Gleb\\anaconda3\\lib\\site-packages\\sklearn\\model_selection\\_search.py:952: UserWarning: One or more of the test scores are non-finite: [       nan        nan 0.5        ...        nan 0.74305556 0.74305556]\n",
      "  warnings.warn(\n"
     ]
    },
    {
     "data": {
      "text/html": [
       "<style>#sk-container-id-6 {color: black;background-color: white;}#sk-container-id-6 pre{padding: 0;}#sk-container-id-6 div.sk-toggleable {background-color: white;}#sk-container-id-6 label.sk-toggleable__label {cursor: pointer;display: block;width: 100%;margin-bottom: 0;padding: 0.3em;box-sizing: border-box;text-align: center;}#sk-container-id-6 label.sk-toggleable__label-arrow:before {content: \"▸\";float: left;margin-right: 0.25em;color: #696969;}#sk-container-id-6 label.sk-toggleable__label-arrow:hover:before {color: black;}#sk-container-id-6 div.sk-estimator:hover label.sk-toggleable__label-arrow:before {color: black;}#sk-container-id-6 div.sk-toggleable__content {max-height: 0;max-width: 0;overflow: hidden;text-align: left;background-color: #f0f8ff;}#sk-container-id-6 div.sk-toggleable__content pre {margin: 0.2em;color: black;border-radius: 0.25em;background-color: #f0f8ff;}#sk-container-id-6 input.sk-toggleable__control:checked~div.sk-toggleable__content {max-height: 200px;max-width: 100%;overflow: auto;}#sk-container-id-6 input.sk-toggleable__control:checked~label.sk-toggleable__label-arrow:before {content: \"▾\";}#sk-container-id-6 div.sk-estimator input.sk-toggleable__control:checked~label.sk-toggleable__label {background-color: #d4ebff;}#sk-container-id-6 div.sk-label input.sk-toggleable__control:checked~label.sk-toggleable__label {background-color: #d4ebff;}#sk-container-id-6 input.sk-hidden--visually {border: 0;clip: rect(1px 1px 1px 1px);clip: rect(1px, 1px, 1px, 1px);height: 1px;margin: -1px;overflow: hidden;padding: 0;position: absolute;width: 1px;}#sk-container-id-6 div.sk-estimator {font-family: monospace;background-color: #f0f8ff;border: 1px dotted black;border-radius: 0.25em;box-sizing: border-box;margin-bottom: 0.5em;}#sk-container-id-6 div.sk-estimator:hover {background-color: #d4ebff;}#sk-container-id-6 div.sk-parallel-item::after {content: \"\";width: 100%;border-bottom: 1px solid gray;flex-grow: 1;}#sk-container-id-6 div.sk-label:hover label.sk-toggleable__label {background-color: #d4ebff;}#sk-container-id-6 div.sk-serial::before {content: \"\";position: absolute;border-left: 1px solid gray;box-sizing: border-box;top: 0;bottom: 0;left: 50%;z-index: 0;}#sk-container-id-6 div.sk-serial {display: flex;flex-direction: column;align-items: center;background-color: white;padding-right: 0.2em;padding-left: 0.2em;position: relative;}#sk-container-id-6 div.sk-item {position: relative;z-index: 1;}#sk-container-id-6 div.sk-parallel {display: flex;align-items: stretch;justify-content: center;background-color: white;position: relative;}#sk-container-id-6 div.sk-item::before, #sk-container-id-6 div.sk-parallel-item::before {content: \"\";position: absolute;border-left: 1px solid gray;box-sizing: border-box;top: 0;bottom: 0;left: 50%;z-index: -1;}#sk-container-id-6 div.sk-parallel-item {display: flex;flex-direction: column;z-index: 1;position: relative;background-color: white;}#sk-container-id-6 div.sk-parallel-item:first-child::after {align-self: flex-end;width: 50%;}#sk-container-id-6 div.sk-parallel-item:last-child::after {align-self: flex-start;width: 50%;}#sk-container-id-6 div.sk-parallel-item:only-child::after {width: 0;}#sk-container-id-6 div.sk-dashed-wrapped {border: 1px dashed gray;margin: 0 0.4em 0.5em 0.4em;box-sizing: border-box;padding-bottom: 0.4em;background-color: white;}#sk-container-id-6 div.sk-label label {font-family: monospace;font-weight: bold;display: inline-block;line-height: 1.2em;}#sk-container-id-6 div.sk-label-container {text-align: center;}#sk-container-id-6 div.sk-container {/* jupyter's `normalize.less` sets `[hidden] { display: none; }` but bootstrap.min.css set `[hidden] { display: none !important; }` so we also need the `!important` here to be able to override the default hidden behavior on the sphinx rendered scikit-learn.org. See: https://github.com/scikit-learn/scikit-learn/issues/21755 */display: inline-block !important;position: relative;}#sk-container-id-6 div.sk-text-repr-fallback {display: none;}</style><div id=\"sk-container-id-6\" class=\"sk-top-container\"><div class=\"sk-text-repr-fallback\"><pre>LogisticRegression(C=3792.690190732246, max_iter=5000, penalty=&#x27;l1&#x27;,\n",
       "                   solver=&#x27;liblinear&#x27;)</pre><b>In a Jupyter environment, please rerun this cell to show the HTML representation or trust the notebook. <br />On GitHub, the HTML representation is unable to render, please try loading this page with nbviewer.org.</b></div><div class=\"sk-container\" hidden><div class=\"sk-item\"><div class=\"sk-estimator sk-toggleable\"><input class=\"sk-toggleable__control sk-hidden--visually\" id=\"sk-estimator-id-10\" type=\"checkbox\" checked><label for=\"sk-estimator-id-10\" class=\"sk-toggleable__label sk-toggleable__label-arrow\">LogisticRegression</label><div class=\"sk-toggleable__content\"><pre>LogisticRegression(C=3792.690190732246, max_iter=5000, penalty=&#x27;l1&#x27;,\n",
       "                   solver=&#x27;liblinear&#x27;)</pre></div></div></div></div></div>"
      ],
      "text/plain": [
       "LogisticRegression(C=3792.690190732246, max_iter=5000, penalty='l1',\n",
       "                   solver='liblinear')"
      ]
     },
     "execution_count": 89,
     "metadata": {},
     "output_type": "execute_result"
    }
   ],
   "source": [
    "best_clf = clf.fit(X1_new,y1_new)\n",
    "best_clf.best_estimator_"
   ]
  },
  {
   "cell_type": "code",
   "execution_count": 90,
   "id": "8ede41c8",
   "metadata": {},
   "outputs": [],
   "source": [
    "best_clf_pred = best_clf.predict(X1new_test)"
   ]
  },
  {
   "cell_type": "code",
   "execution_count": 91,
   "id": "ca7890e4",
   "metadata": {},
   "outputs": [
    {
     "name": "stdout",
     "output_type": "stream",
     "text": [
      "              precision    recall  f1-score   support\n",
      "\n",
      "           0       0.88      0.78      0.82        18\n",
      "           1       0.80      0.89      0.84        18\n",
      "\n",
      "    accuracy                           0.83        36\n",
      "   macro avg       0.84      0.83      0.83        36\n",
      "weighted avg       0.84      0.83      0.83        36\n",
      "\n"
     ]
    }
   ],
   "source": [
    "print(classification_report(y1new_test, best_clf_pred))"
   ]
  },
  {
   "cell_type": "code",
   "execution_count": 92,
   "id": "07fda36f",
   "metadata": {},
   "outputs": [
    {
     "data": {
      "text/plain": [
       "array([[14,  4],\n",
       "       [ 2, 16]], dtype=int64)"
      ]
     },
     "execution_count": 92,
     "metadata": {},
     "output_type": "execute_result"
    }
   ],
   "source": [
    "confusion_matrix(y1new_test, best_clf_pred)"
   ]
  },
  {
   "cell_type": "markdown",
   "id": "7e0d56d7",
   "metadata": {},
   "source": [
    "Модель получилась примерно такая же по качеству"
   ]
  },
  {
   "cell_type": "markdown",
   "id": "9f65f097",
   "metadata": {},
   "source": [
    "# Расчёт вероятности дефолта для каждого объекта"
   ]
  },
  {
   "cell_type": "code",
   "execution_count": 93,
   "id": "b5b0f55c",
   "metadata": {},
   "outputs": [],
   "source": [
    "prob_predictions = best_clf.predict_proba(X1)"
   ]
  },
  {
   "cell_type": "code",
   "execution_count": 94,
   "id": "69de5a31",
   "metadata": {},
   "outputs": [
    {
     "data": {
      "text/plain": [
       "array([[0.72403919, 0.27596081],\n",
       "       [0.79430843, 0.20569157],\n",
       "       [0.56626444, 0.43373556],\n",
       "       ...,\n",
       "       [0.24175687, 0.75824313],\n",
       "       [0.05731966, 0.94268034],\n",
       "       [0.39681426, 0.60318574]])"
      ]
     },
     "execution_count": 94,
     "metadata": {},
     "output_type": "execute_result"
    }
   ],
   "source": [
    "prob_predictions"
   ]
  },
  {
   "cell_type": "markdown",
   "id": "3337fe0a",
   "metadata": {},
   "source": [
    "Теперь добавим в исходный датафрейм столбец с вероятностями дефолта "
   ]
  },
  {
   "cell_type": "code",
   "execution_count": 95,
   "id": "8cee48f4",
   "metadata": {},
   "outputs": [],
   "source": [
    "default_prob = prob_predictions[:, 1]"
   ]
  },
  {
   "cell_type": "code",
   "execution_count": 96,
   "id": "8b2d3f23",
   "metadata": {},
   "outputs": [
    {
     "data": {
      "text/plain": [
       "array([0.27596081, 0.20569157, 0.43373556, ..., 0.75824313, 0.94268034,\n",
       "       0.60318574])"
      ]
     },
     "execution_count": 96,
     "metadata": {},
     "output_type": "execute_result"
    }
   ],
   "source": [
    "default_prob"
   ]
  },
  {
   "cell_type": "code",
   "execution_count": 97,
   "id": "e67867fb",
   "metadata": {},
   "outputs": [],
   "source": [
    "df['Default_Prob'] = default_prob.tolist()"
   ]
  },
  {
   "cell_type": "code",
   "execution_count": 98,
   "id": "7d9e93d1",
   "metadata": {},
   "outputs": [
    {
     "data": {
      "text/html": [
       "<div>\n",
       "<style scoped>\n",
       "    .dataframe tbody tr th:only-of-type {\n",
       "        vertical-align: middle;\n",
       "    }\n",
       "\n",
       "    .dataframe tbody tr th {\n",
       "        vertical-align: top;\n",
       "    }\n",
       "\n",
       "    .dataframe thead th {\n",
       "        text-align: right;\n",
       "    }\n",
       "</style>\n",
       "<table border=\"1\" class=\"dataframe\">\n",
       "  <thead>\n",
       "    <tr style=\"text-align: right;\">\n",
       "      <th></th>\n",
       "      <th>ID</th>\n",
       "      <th>Year</th>\n",
       "      <th>Default</th>\n",
       "      <th>WC/TA</th>\n",
       "      <th>RE/TA</th>\n",
       "      <th>EBIT/TA</th>\n",
       "      <th>ME/TL</th>\n",
       "      <th>S/TA</th>\n",
       "      <th>Default_Prob</th>\n",
       "    </tr>\n",
       "  </thead>\n",
       "  <tbody>\n",
       "    <tr>\n",
       "      <th>0</th>\n",
       "      <td>1</td>\n",
       "      <td>1999</td>\n",
       "      <td>0</td>\n",
       "      <td>0.500799</td>\n",
       "      <td>0.306846</td>\n",
       "      <td>0.043373</td>\n",
       "      <td>0.956271</td>\n",
       "      <td>0.334774</td>\n",
       "      <td>0.275961</td>\n",
       "    </tr>\n",
       "    <tr>\n",
       "      <th>1</th>\n",
       "      <td>1</td>\n",
       "      <td>2000</td>\n",
       "      <td>0</td>\n",
       "      <td>0.547780</td>\n",
       "      <td>0.322214</td>\n",
       "      <td>0.051843</td>\n",
       "      <td>1.064545</td>\n",
       "      <td>0.334591</td>\n",
       "      <td>0.205692</td>\n",
       "    </tr>\n",
       "    <tr>\n",
       "      <th>2</th>\n",
       "      <td>1</td>\n",
       "      <td>2001</td>\n",
       "      <td>0</td>\n",
       "      <td>0.451001</td>\n",
       "      <td>0.225150</td>\n",
       "      <td>0.026813</td>\n",
       "      <td>0.804096</td>\n",
       "      <td>0.245585</td>\n",
       "      <td>0.433736</td>\n",
       "    </tr>\n",
       "    <tr>\n",
       "      <th>3</th>\n",
       "      <td>1</td>\n",
       "      <td>2002</td>\n",
       "      <td>0</td>\n",
       "      <td>0.306887</td>\n",
       "      <td>0.191936</td>\n",
       "      <td>0.030058</td>\n",
       "      <td>0.387010</td>\n",
       "      <td>0.253438</td>\n",
       "      <td>0.443152</td>\n",
       "    </tr>\n",
       "    <tr>\n",
       "      <th>4</th>\n",
       "      <td>1</td>\n",
       "      <td>2003</td>\n",
       "      <td>0</td>\n",
       "      <td>0.447246</td>\n",
       "      <td>0.217368</td>\n",
       "      <td>0.032458</td>\n",
       "      <td>0.791639</td>\n",
       "      <td>0.275531</td>\n",
       "      <td>0.423231</td>\n",
       "    </tr>\n",
       "    <tr>\n",
       "      <th>...</th>\n",
       "      <td>...</td>\n",
       "      <td>...</td>\n",
       "      <td>...</td>\n",
       "      <td>...</td>\n",
       "      <td>...</td>\n",
       "      <td>...</td>\n",
       "      <td>...</td>\n",
       "      <td>...</td>\n",
       "      <td>...</td>\n",
       "    </tr>\n",
       "    <tr>\n",
       "      <th>3995</th>\n",
       "      <td>826</td>\n",
       "      <td>1997</td>\n",
       "      <td>1</td>\n",
       "      <td>0.028728</td>\n",
       "      <td>-1.846117</td>\n",
       "      <td>0.033956</td>\n",
       "      <td>0.034680</td>\n",
       "      <td>0.678044</td>\n",
       "      <td>0.999997</td>\n",
       "    </tr>\n",
       "    <tr>\n",
       "      <th>3996</th>\n",
       "      <td>827</td>\n",
       "      <td>2000</td>\n",
       "      <td>1</td>\n",
       "      <td>0.172167</td>\n",
       "      <td>-0.068613</td>\n",
       "      <td>-0.004699</td>\n",
       "      <td>0.043519</td>\n",
       "      <td>0.235299</td>\n",
       "      <td>0.921015</td>\n",
       "    </tr>\n",
       "    <tr>\n",
       "      <th>3997</th>\n",
       "      <td>828</td>\n",
       "      <td>1996</td>\n",
       "      <td>1</td>\n",
       "      <td>0.005588</td>\n",
       "      <td>-0.260068</td>\n",
       "      <td>0.036878</td>\n",
       "      <td>0.298255</td>\n",
       "      <td>0.148100</td>\n",
       "      <td>0.758243</td>\n",
       "    </tr>\n",
       "    <tr>\n",
       "      <th>3998</th>\n",
       "      <td>829</td>\n",
       "      <td>2001</td>\n",
       "      <td>1</td>\n",
       "      <td>-0.994230</td>\n",
       "      <td>-0.433532</td>\n",
       "      <td>-0.000244</td>\n",
       "      <td>0.035502</td>\n",
       "      <td>0.330467</td>\n",
       "      <td>0.942680</td>\n",
       "    </tr>\n",
       "    <tr>\n",
       "      <th>3999</th>\n",
       "      <td>830</td>\n",
       "      <td>2002</td>\n",
       "      <td>1</td>\n",
       "      <td>0.065566</td>\n",
       "      <td>-0.113739</td>\n",
       "      <td>0.036024</td>\n",
       "      <td>0.037632</td>\n",
       "      <td>0.116360</td>\n",
       "      <td>0.603186</td>\n",
       "    </tr>\n",
       "  </tbody>\n",
       "</table>\n",
       "<p>4000 rows × 9 columns</p>\n",
       "</div>"
      ],
      "text/plain": [
       "       ID  Year  Default     WC/TA     RE/TA   EBIT/TA     ME/TL      S/TA  \\\n",
       "0       1  1999        0  0.500799  0.306846  0.043373  0.956271  0.334774   \n",
       "1       1  2000        0  0.547780  0.322214  0.051843  1.064545  0.334591   \n",
       "2       1  2001        0  0.451001  0.225150  0.026813  0.804096  0.245585   \n",
       "3       1  2002        0  0.306887  0.191936  0.030058  0.387010  0.253438   \n",
       "4       1  2003        0  0.447246  0.217368  0.032458  0.791639  0.275531   \n",
       "...   ...   ...      ...       ...       ...       ...       ...       ...   \n",
       "3995  826  1997        1  0.028728 -1.846117  0.033956  0.034680  0.678044   \n",
       "3996  827  2000        1  0.172167 -0.068613 -0.004699  0.043519  0.235299   \n",
       "3997  828  1996        1  0.005588 -0.260068  0.036878  0.298255  0.148100   \n",
       "3998  829  2001        1 -0.994230 -0.433532 -0.000244  0.035502  0.330467   \n",
       "3999  830  2002        1  0.065566 -0.113739  0.036024  0.037632  0.116360   \n",
       "\n",
       "      Default_Prob  \n",
       "0         0.275961  \n",
       "1         0.205692  \n",
       "2         0.433736  \n",
       "3         0.443152  \n",
       "4         0.423231  \n",
       "...            ...  \n",
       "3995      0.999997  \n",
       "3996      0.921015  \n",
       "3997      0.758243  \n",
       "3998      0.942680  \n",
       "3999      0.603186  \n",
       "\n",
       "[4000 rows x 9 columns]"
      ]
     },
     "execution_count": 98,
     "metadata": {},
     "output_type": "execute_result"
    }
   ],
   "source": [
    "df"
   ]
  },
  {
   "cell_type": "markdown",
   "id": "853ca000",
   "metadata": {},
   "source": [
    "В такой задаче качество модели можно оценить с помощью построения гистограммы распределения вероятностей для объектов с дефолтом и без дефолта."
   ]
  },
  {
   "cell_type": "code",
   "execution_count": 106,
   "id": "d589b83b",
   "metadata": {},
   "outputs": [
    {
     "data": {
      "image/png": "[encoded data removed]",
      "text/plain": [
       "<Figure size 1600x400 with 2 Axes>"
      ]
     },
     "metadata": {},
     "output_type": "display_data"
    }
   ],
   "source": [
    "fig, axes = plt.subplots(nrows=1, ncols=2, figsize=(16, 4))\n",
    " \n",
    "axes[0].hist(df[df['Default']==0]['Default_Prob'], bins=30, color='green', edgecolor='black')\n",
    "axes[0].set_title('Распределение вероятностей дефолта в ситуациях отсутствия дефолта')\n",
    " \n",
    "axes[1].hist(df[df['Default']==1]['Default_Prob'], bins=30, color='red', edgecolor='black')\n",
    "axes[1].set_title('Распределение вероятностей дефолта в ситуациях дефолта')\n",
    " \n",
    "for ax in axes:\n",
    "    ax.set_xlabel('Оцененная вероятность дефолта')\n",
    "    ax.set_ylabel('Количество наблюдений')\n",
    " \n",
    "plt.tight_layout()\n",
    "plt.show()"
   ]
  },
  {
   "cell_type": "markdown",
   "id": "87a361fe",
   "metadata": {},
   "source": [
    "Судя по гистограммам, модель хорошо предсказывает вероятность дефолта."
   ]
  },
  {
   "cell_type": "markdown",
   "id": "0ee7b01c",
   "metadata": {},
   "source": [
    "Я подумал, что такую модель можно оценить с помощью доли ошибок для установленного критичного порога вероятности дефолта."
   ]
  },
  {
   "cell_type": "markdown",
   "id": "9ee1e513",
   "metadata": {},
   "source": [
    "# Выводы об эффективности модели"
   ]
  },
  {
   "cell_type": "markdown",
   "id": "a2b409b3",
   "metadata": {},
   "source": [
    "Пусть создатели прогнозной модели полагают, что если оцененная вероятность дефолта <= 0.5 , то модель должна ошибаться не более чем в 5% случаях."
   ]
  },
  {
   "cell_type": "markdown",
   "id": "0de18b28",
   "metadata": {},
   "source": [
    "Посмотрим долю таких ошибок у нашей модели:"
   ]
  },
  {
   "cell_type": "code",
   "execution_count": 114,
   "id": "e04d51c7",
   "metadata": {},
   "outputs": [
    {
     "data": {
      "text/html": [
       "<div>\n",
       "<style scoped>\n",
       "    .dataframe tbody tr th:only-of-type {\n",
       "        vertical-align: middle;\n",
       "    }\n",
       "\n",
       "    .dataframe tbody tr th {\n",
       "        vertical-align: top;\n",
       "    }\n",
       "\n",
       "    .dataframe thead th {\n",
       "        text-align: right;\n",
       "    }\n",
       "</style>\n",
       "<table border=\"1\" class=\"dataframe\">\n",
       "  <thead>\n",
       "    <tr style=\"text-align: right;\">\n",
       "      <th></th>\n",
       "      <th>ID</th>\n",
       "      <th>Year</th>\n",
       "      <th>Default</th>\n",
       "      <th>WC/TA</th>\n",
       "      <th>RE/TA</th>\n",
       "      <th>EBIT/TA</th>\n",
       "      <th>ME/TL</th>\n",
       "      <th>S/TA</th>\n",
       "      <th>Default_Prob</th>\n",
       "    </tr>\n",
       "  </thead>\n",
       "  <tbody>\n",
       "    <tr>\n",
       "      <th>106</th>\n",
       "      <td>21</td>\n",
       "      <td>1996</td>\n",
       "      <td>1</td>\n",
       "      <td>0.357301</td>\n",
       "      <td>0.060466</td>\n",
       "      <td>0.028341</td>\n",
       "      <td>3.196286</td>\n",
       "      <td>0.283511</td>\n",
       "      <td>0.390325</td>\n",
       "    </tr>\n",
       "    <tr>\n",
       "      <th>659</th>\n",
       "      <td>126</td>\n",
       "      <td>2004</td>\n",
       "      <td>1</td>\n",
       "      <td>0.157971</td>\n",
       "      <td>0.108848</td>\n",
       "      <td>0.074834</td>\n",
       "      <td>1.363119</td>\n",
       "      <td>0.397758</td>\n",
       "      <td>0.175593</td>\n",
       "    </tr>\n",
       "    <tr>\n",
       "      <th>2703</th>\n",
       "      <td>474</td>\n",
       "      <td>2001</td>\n",
       "      <td>1</td>\n",
       "      <td>-0.054136</td>\n",
       "      <td>-0.030314</td>\n",
       "      <td>0.029028</td>\n",
       "      <td>0.089803</td>\n",
       "      <td>0.107099</td>\n",
       "      <td>0.486383</td>\n",
       "    </tr>\n",
       "    <tr>\n",
       "      <th>3069</th>\n",
       "      <td>530</td>\n",
       "      <td>2000</td>\n",
       "      <td>1</td>\n",
       "      <td>0.184684</td>\n",
       "      <td>0.592574</td>\n",
       "      <td>0.030806</td>\n",
       "      <td>0.203093</td>\n",
       "      <td>0.272307</td>\n",
       "      <td>0.069855</td>\n",
       "    </tr>\n",
       "    <tr>\n",
       "      <th>3429</th>\n",
       "      <td>593</td>\n",
       "      <td>1997</td>\n",
       "      <td>1</td>\n",
       "      <td>0.339660</td>\n",
       "      <td>0.171137</td>\n",
       "      <td>0.095746</td>\n",
       "      <td>0.160332</td>\n",
       "      <td>0.776003</td>\n",
       "      <td>0.453489</td>\n",
       "    </tr>\n",
       "    <tr>\n",
       "      <th>3932</th>\n",
       "      <td>707</td>\n",
       "      <td>1995</td>\n",
       "      <td>1</td>\n",
       "      <td>0.141552</td>\n",
       "      <td>0.194191</td>\n",
       "      <td>0.051926</td>\n",
       "      <td>1.939260</td>\n",
       "      <td>0.305793</td>\n",
       "      <td>0.137419</td>\n",
       "    </tr>\n",
       "    <tr>\n",
       "      <th>3933</th>\n",
       "      <td>708</td>\n",
       "      <td>1997</td>\n",
       "      <td>1</td>\n",
       "      <td>0.131458</td>\n",
       "      <td>0.201243</td>\n",
       "      <td>0.056276</td>\n",
       "      <td>1.958129</td>\n",
       "      <td>0.291079</td>\n",
       "      <td>0.105493</td>\n",
       "    </tr>\n",
       "    <tr>\n",
       "      <th>3946</th>\n",
       "      <td>753</td>\n",
       "      <td>2000</td>\n",
       "      <td>1</td>\n",
       "      <td>0.131888</td>\n",
       "      <td>0.198402</td>\n",
       "      <td>0.058867</td>\n",
       "      <td>1.934929</td>\n",
       "      <td>0.298211</td>\n",
       "      <td>0.101631</td>\n",
       "    </tr>\n",
       "    <tr>\n",
       "      <th>3947</th>\n",
       "      <td>755</td>\n",
       "      <td>2001</td>\n",
       "      <td>1</td>\n",
       "      <td>0.143223</td>\n",
       "      <td>0.207743</td>\n",
       "      <td>0.050891</td>\n",
       "      <td>1.937747</td>\n",
       "      <td>0.297205</td>\n",
       "      <td>0.129192</td>\n",
       "    </tr>\n",
       "    <tr>\n",
       "      <th>3963</th>\n",
       "      <td>791</td>\n",
       "      <td>1997</td>\n",
       "      <td>1</td>\n",
       "      <td>0.381472</td>\n",
       "      <td>0.092574</td>\n",
       "      <td>0.056435</td>\n",
       "      <td>6.197883</td>\n",
       "      <td>0.284874</td>\n",
       "      <td>0.046656</td>\n",
       "    </tr>\n",
       "  </tbody>\n",
       "</table>\n",
       "</div>"
      ],
      "text/plain": [
       "       ID  Year  Default     WC/TA     RE/TA   EBIT/TA     ME/TL      S/TA  \\\n",
       "106    21  1996        1  0.357301  0.060466  0.028341  3.196286  0.283511   \n",
       "659   126  2004        1  0.157971  0.108848  0.074834  1.363119  0.397758   \n",
       "2703  474  2001        1 -0.054136 -0.030314  0.029028  0.089803  0.107099   \n",
       "3069  530  2000        1  0.184684  0.592574  0.030806  0.203093  0.272307   \n",
       "3429  593  1997        1  0.339660  0.171137  0.095746  0.160332  0.776003   \n",
       "3932  707  1995        1  0.141552  0.194191  0.051926  1.939260  0.305793   \n",
       "3933  708  1997        1  0.131458  0.201243  0.056276  1.958129  0.291079   \n",
       "3946  753  2000        1  0.131888  0.198402  0.058867  1.934929  0.298211   \n",
       "3947  755  2001        1  0.143223  0.207743  0.050891  1.937747  0.297205   \n",
       "3963  791  1997        1  0.381472  0.092574  0.056435  6.197883  0.284874   \n",
       "\n",
       "      Default_Prob  \n",
       "106       0.390325  \n",
       "659       0.175593  \n",
       "2703      0.486383  \n",
       "3069      0.069855  \n",
       "3429      0.453489  \n",
       "3932      0.137419  \n",
       "3933      0.105493  \n",
       "3946      0.101631  \n",
       "3947      0.129192  \n",
       "3963      0.046656  "
      ]
     },
     "execution_count": 114,
     "metadata": {},
     "output_type": "execute_result"
    }
   ],
   "source": [
    "df.loc[((df['Default'] == 1) & (df['Default_Prob' ] <= 0.5))]"
   ]
  },
  {
   "cell_type": "code",
   "execution_count": 112,
   "id": "805df95b",
   "metadata": {},
   "outputs": [
    {
     "data": {
      "text/plain": [
       "10"
      ]
     },
     "execution_count": 112,
     "metadata": {},
     "output_type": "execute_result"
    }
   ],
   "source": [
    "len(df.loc[((df['Default'] == 1) & (df['Default_Prob' ] <= 0.5))])"
   ]
  },
  {
   "cell_type": "code",
   "execution_count": 113,
   "id": "2fb32b67",
   "metadata": {},
   "outputs": [
    {
     "data": {
      "text/html": [
       "<div>\n",
       "<style scoped>\n",
       "    .dataframe tbody tr th:only-of-type {\n",
       "        vertical-align: middle;\n",
       "    }\n",
       "\n",
       "    .dataframe tbody tr th {\n",
       "        vertical-align: top;\n",
       "    }\n",
       "\n",
       "    .dataframe thead th {\n",
       "        text-align: right;\n",
       "    }\n",
       "</style>\n",
       "<table border=\"1\" class=\"dataframe\">\n",
       "  <thead>\n",
       "    <tr style=\"text-align: right;\">\n",
       "      <th></th>\n",
       "      <th>ID</th>\n",
       "      <th>Year</th>\n",
       "      <th>Default</th>\n",
       "      <th>WC/TA</th>\n",
       "      <th>RE/TA</th>\n",
       "      <th>EBIT/TA</th>\n",
       "      <th>ME/TL</th>\n",
       "      <th>S/TA</th>\n",
       "      <th>Default_Prob</th>\n",
       "    </tr>\n",
       "  </thead>\n",
       "  <tbody>\n",
       "    <tr>\n",
       "      <th>0</th>\n",
       "      <td>1</td>\n",
       "      <td>1999</td>\n",
       "      <td>0</td>\n",
       "      <td>0.500799</td>\n",
       "      <td>0.306846</td>\n",
       "      <td>0.043373</td>\n",
       "      <td>0.956271</td>\n",
       "      <td>0.334774</td>\n",
       "      <td>0.275961</td>\n",
       "    </tr>\n",
       "    <tr>\n",
       "      <th>1</th>\n",
       "      <td>1</td>\n",
       "      <td>2000</td>\n",
       "      <td>0</td>\n",
       "      <td>0.547780</td>\n",
       "      <td>0.322214</td>\n",
       "      <td>0.051843</td>\n",
       "      <td>1.064545</td>\n",
       "      <td>0.334591</td>\n",
       "      <td>0.205692</td>\n",
       "    </tr>\n",
       "    <tr>\n",
       "      <th>2</th>\n",
       "      <td>1</td>\n",
       "      <td>2001</td>\n",
       "      <td>0</td>\n",
       "      <td>0.451001</td>\n",
       "      <td>0.225150</td>\n",
       "      <td>0.026813</td>\n",
       "      <td>0.804096</td>\n",
       "      <td>0.245585</td>\n",
       "      <td>0.433736</td>\n",
       "    </tr>\n",
       "    <tr>\n",
       "      <th>3</th>\n",
       "      <td>1</td>\n",
       "      <td>2002</td>\n",
       "      <td>0</td>\n",
       "      <td>0.306887</td>\n",
       "      <td>0.191936</td>\n",
       "      <td>0.030058</td>\n",
       "      <td>0.387010</td>\n",
       "      <td>0.253438</td>\n",
       "      <td>0.443152</td>\n",
       "    </tr>\n",
       "    <tr>\n",
       "      <th>4</th>\n",
       "      <td>1</td>\n",
       "      <td>2003</td>\n",
       "      <td>0</td>\n",
       "      <td>0.447246</td>\n",
       "      <td>0.217368</td>\n",
       "      <td>0.032458</td>\n",
       "      <td>0.791639</td>\n",
       "      <td>0.275531</td>\n",
       "      <td>0.423231</td>\n",
       "    </tr>\n",
       "    <tr>\n",
       "      <th>...</th>\n",
       "      <td>...</td>\n",
       "      <td>...</td>\n",
       "      <td>...</td>\n",
       "      <td>...</td>\n",
       "      <td>...</td>\n",
       "      <td>...</td>\n",
       "      <td>...</td>\n",
       "      <td>...</td>\n",
       "      <td>...</td>\n",
       "    </tr>\n",
       "    <tr>\n",
       "      <th>3958</th>\n",
       "      <td>782</td>\n",
       "      <td>1995</td>\n",
       "      <td>0</td>\n",
       "      <td>0.141166</td>\n",
       "      <td>0.218147</td>\n",
       "      <td>0.055609</td>\n",
       "      <td>1.950674</td>\n",
       "      <td>0.305347</td>\n",
       "      <td>0.106696</td>\n",
       "    </tr>\n",
       "    <tr>\n",
       "      <th>3959</th>\n",
       "      <td>782</td>\n",
       "      <td>1996</td>\n",
       "      <td>0</td>\n",
       "      <td>0.139405</td>\n",
       "      <td>0.214003</td>\n",
       "      <td>0.060391</td>\n",
       "      <td>1.943807</td>\n",
       "      <td>0.298324</td>\n",
       "      <td>0.089585</td>\n",
       "    </tr>\n",
       "    <tr>\n",
       "      <th>3960</th>\n",
       "      <td>786</td>\n",
       "      <td>1997</td>\n",
       "      <td>0</td>\n",
       "      <td>0.155179</td>\n",
       "      <td>0.217222</td>\n",
       "      <td>0.045847</td>\n",
       "      <td>1.952065</td>\n",
       "      <td>0.318078</td>\n",
       "      <td>0.159869</td>\n",
       "    </tr>\n",
       "    <tr>\n",
       "      <th>3961</th>\n",
       "      <td>787</td>\n",
       "      <td>1998</td>\n",
       "      <td>0</td>\n",
       "      <td>0.140064</td>\n",
       "      <td>0.211415</td>\n",
       "      <td>0.047954</td>\n",
       "      <td>1.938603</td>\n",
       "      <td>0.297971</td>\n",
       "      <td>0.139753</td>\n",
       "    </tr>\n",
       "    <tr>\n",
       "      <th>3962</th>\n",
       "      <td>791</td>\n",
       "      <td>1995</td>\n",
       "      <td>0</td>\n",
       "      <td>0.146487</td>\n",
       "      <td>0.199676</td>\n",
       "      <td>0.061320</td>\n",
       "      <td>1.931733</td>\n",
       "      <td>0.310047</td>\n",
       "      <td>0.099438</td>\n",
       "    </tr>\n",
       "  </tbody>\n",
       "</table>\n",
       "<p>3275 rows × 9 columns</p>\n",
       "</div>"
      ],
      "text/plain": [
       "       ID  Year  Default     WC/TA     RE/TA   EBIT/TA     ME/TL      S/TA  \\\n",
       "0       1  1999        0  0.500799  0.306846  0.043373  0.956271  0.334774   \n",
       "1       1  2000        0  0.547780  0.322214  0.051843  1.064545  0.334591   \n",
       "2       1  2001        0  0.451001  0.225150  0.026813  0.804096  0.245585   \n",
       "3       1  2002        0  0.306887  0.191936  0.030058  0.387010  0.253438   \n",
       "4       1  2003        0  0.447246  0.217368  0.032458  0.791639  0.275531   \n",
       "...   ...   ...      ...       ...       ...       ...       ...       ...   \n",
       "3958  782  1995        0  0.141166  0.218147  0.055609  1.950674  0.305347   \n",
       "3959  782  1996        0  0.139405  0.214003  0.060391  1.943807  0.298324   \n",
       "3960  786  1997        0  0.155179  0.217222  0.045847  1.952065  0.318078   \n",
       "3961  787  1998        0  0.140064  0.211415  0.047954  1.938603  0.297971   \n",
       "3962  791  1995        0  0.146487  0.199676  0.061320  1.931733  0.310047   \n",
       "\n",
       "      Default_Prob  \n",
       "0         0.275961  \n",
       "1         0.205692  \n",
       "2         0.433736  \n",
       "3         0.443152  \n",
       "4         0.423231  \n",
       "...            ...  \n",
       "3958      0.106696  \n",
       "3959      0.089585  \n",
       "3960      0.159869  \n",
       "3961      0.139753  \n",
       "3962      0.099438  \n",
       "\n",
       "[3275 rows x 9 columns]"
      ]
     },
     "execution_count": 113,
     "metadata": {},
     "output_type": "execute_result"
    }
   ],
   "source": [
    "df.loc[((df['Default'] == 0) & (df['Default_Prob' ] <= 0.5))]"
   ]
  },
  {
   "cell_type": "code",
   "execution_count": 115,
   "id": "6cbe56a5",
   "metadata": {},
   "outputs": [
    {
     "data": {
      "text/plain": [
       "3275"
      ]
     },
     "execution_count": 115,
     "metadata": {},
     "output_type": "execute_result"
    }
   ],
   "source": [
    "len(df.loc[((df['Default'] == 0) & (df['Default_Prob' ] <= 0.5))])"
   ]
  },
  {
   "cell_type": "code",
   "execution_count": 118,
   "id": "e6ff0d1f",
   "metadata": {},
   "outputs": [
    {
     "name": "stdout",
     "output_type": "stream",
     "text": [
      "Модель ошибается, прогнозируя вероятность дефолта <= 0.5, в 0.3% случаев\n"
     ]
    }
   ],
   "source": [
    "a = 10/3285\n",
    "print(f'Модель ошибается, прогнозируя вероятность дефолта <= 0.5, в {round(a*100, 2)}% случаев')"
   ]
  },
  {
   "cell_type": "markdown",
   "id": "a7fa287a",
   "metadata": {},
   "source": [
    "Я оценил именно вероятность такой ошибки, так как если модель прогнозирует, что дефолта не будет, а он случается, это значит, что она не будет эффективна в использовании финансовым институтом, так как риски такой ошибки очень высоки."
   ]
  },
  {
   "cell_type": "code",
   "execution_count": null,
   "id": "ae58071a",
   "metadata": {},
   "outputs": [],
   "source": [
    "Наша модель допускает такую ошибку в примерно 0.3% случаев, что говорит о высоком качестве модели."
   ]
  }
 ],
 "metadata": {
  "kernelspec": {
   "display_name": "Python 3 (ipykernel)",
   "language": "python",
   "name": "python3"
  },
  "language_info": {
   "codemirror_mode": {
    "name": "ipython",
    "version": 3
   },
   "file_extension": ".py",
   "mimetype": "text/x-python",
   "name": "python",
   "nbconvert_exporter": "python",
   "pygments_lexer": "ipython3",
   "version": "3.10.9"
  }
 },
 "nbformat": 4,
 "nbformat_minor": 5
}
